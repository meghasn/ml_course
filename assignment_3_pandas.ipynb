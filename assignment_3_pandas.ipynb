{
  "nbformat": 4,
  "nbformat_minor": 0,
  "metadata": {
    "colab": {
      "name": "assignment_3_pandas.ipynb",
      "provenance": [],
      "collapsed_sections": []
    },
    "kernelspec": {
      "name": "python3",
      "display_name": "Python 3"
    }
  },
  "cells": [
    {
      "cell_type": "code",
      "metadata": {
        "id": "AWhAqnhQP5MY",
        "colab_type": "code",
        "colab": {}
      },
      "source": [
        "import numpy as np\n",
        "import pandas as pd"
      ],
      "execution_count": 0,
      "outputs": []
    },
    {
      "cell_type": "markdown",
      "metadata": {
        "id": "E0xhOlKpdnJy",
        "colab_type": "text"
      },
      "source": [
        "## object creation"
      ]
    },
    {
      "cell_type": "code",
      "metadata": {
        "id": "jCZjXif9dcRt",
        "colab_type": "code",
        "colab": {
          "base_uri": "https://localhost:8080/",
          "height": 134
        },
        "outputId": "1b0d8cfe-b644-4a0d-9699-7ac69103703f"
      },
      "source": [
        "s=pd.Series([1,3,5,np.nan,6,8])\n",
        "s"
      ],
      "execution_count": 3,
      "outputs": [
        {
          "output_type": "execute_result",
          "data": {
            "text/plain": [
              "0    1.0\n",
              "1    3.0\n",
              "2    5.0\n",
              "3    NaN\n",
              "4    6.0\n",
              "5    8.0\n",
              "dtype: float64"
            ]
          },
          "metadata": {
            "tags": []
          },
          "execution_count": 3
        }
      ]
    },
    {
      "cell_type": "code",
      "metadata": {
        "id": "Kz0DgThHdzTO",
        "colab_type": "code",
        "colab": {
          "base_uri": "https://localhost:8080/",
          "height": 225
        },
        "outputId": "1fe3e764-b20e-4f0b-f867-25d1cbeaf2ad"
      },
      "source": [
        "d=pd.date_range('20130101',periods=6)\n",
        "d\n",
        "df=pd.DataFrame(np.random.randn(6,4),index=d,columns=list('ABCD'))\n",
        "df"
      ],
      "execution_count": 9,
      "outputs": [
        {
          "output_type": "execute_result",
          "data": {
            "text/html": [
              "<div>\n",
              "<style scoped>\n",
              "    .dataframe tbody tr th:only-of-type {\n",
              "        vertical-align: middle;\n",
              "    }\n",
              "\n",
              "    .dataframe tbody tr th {\n",
              "        vertical-align: top;\n",
              "    }\n",
              "\n",
              "    .dataframe thead th {\n",
              "        text-align: right;\n",
              "    }\n",
              "</style>\n",
              "<table border=\"1\" class=\"dataframe\">\n",
              "  <thead>\n",
              "    <tr style=\"text-align: right;\">\n",
              "      <th></th>\n",
              "      <th>A</th>\n",
              "      <th>B</th>\n",
              "      <th>C</th>\n",
              "      <th>D</th>\n",
              "    </tr>\n",
              "  </thead>\n",
              "  <tbody>\n",
              "    <tr>\n",
              "      <th>2013-01-01</th>\n",
              "      <td>0.763055</td>\n",
              "      <td>0.232062</td>\n",
              "      <td>0.779666</td>\n",
              "      <td>0.640516</td>\n",
              "    </tr>\n",
              "    <tr>\n",
              "      <th>2013-01-02</th>\n",
              "      <td>-0.618279</td>\n",
              "      <td>0.689766</td>\n",
              "      <td>-1.473013</td>\n",
              "      <td>0.807873</td>\n",
              "    </tr>\n",
              "    <tr>\n",
              "      <th>2013-01-03</th>\n",
              "      <td>0.535734</td>\n",
              "      <td>1.885526</td>\n",
              "      <td>-0.460454</td>\n",
              "      <td>0.602638</td>\n",
              "    </tr>\n",
              "    <tr>\n",
              "      <th>2013-01-04</th>\n",
              "      <td>-0.630800</td>\n",
              "      <td>1.700747</td>\n",
              "      <td>0.040570</td>\n",
              "      <td>-0.355759</td>\n",
              "    </tr>\n",
              "    <tr>\n",
              "      <th>2013-01-05</th>\n",
              "      <td>0.534841</td>\n",
              "      <td>0.253689</td>\n",
              "      <td>0.877194</td>\n",
              "      <td>-0.265996</td>\n",
              "    </tr>\n",
              "    <tr>\n",
              "      <th>2013-01-06</th>\n",
              "      <td>0.619902</td>\n",
              "      <td>-0.978367</td>\n",
              "      <td>0.048517</td>\n",
              "      <td>0.019765</td>\n",
              "    </tr>\n",
              "  </tbody>\n",
              "</table>\n",
              "</div>"
            ],
            "text/plain": [
              "                   A         B         C         D\n",
              "2013-01-01  0.763055  0.232062  0.779666  0.640516\n",
              "2013-01-02 -0.618279  0.689766 -1.473013  0.807873\n",
              "2013-01-03  0.535734  1.885526 -0.460454  0.602638\n",
              "2013-01-04 -0.630800  1.700747  0.040570 -0.355759\n",
              "2013-01-05  0.534841  0.253689  0.877194 -0.265996\n",
              "2013-01-06  0.619902 -0.978367  0.048517  0.019765"
            ]
          },
          "metadata": {
            "tags": []
          },
          "execution_count": 9
        }
      ]
    },
    {
      "cell_type": "code",
      "metadata": {
        "id": "1JnIdVx6fSau",
        "colab_type": "code",
        "colab": {
          "base_uri": "https://localhost:8080/",
          "height": 166
        },
        "outputId": "235b1bf3-9dcc-4057-ccef-1e6a8601595b"
      },
      "source": [
        "df2=pd.DataFrame({'A':pd.Timestamp(20130102),'B':pd.Series(1,index=list(range(4)),dtype='float32'),'C':np.array([3]*4,dtype='int32'),'D':1.,'E':pd.Categorical([\"test\",\"train\",\"test\",\"train\"]),'F':'foo'})\n",
        "df2"
      ],
      "execution_count": 11,
      "outputs": [
        {
          "output_type": "execute_result",
          "data": {
            "text/html": [
              "<div>\n",
              "<style scoped>\n",
              "    .dataframe tbody tr th:only-of-type {\n",
              "        vertical-align: middle;\n",
              "    }\n",
              "\n",
              "    .dataframe tbody tr th {\n",
              "        vertical-align: top;\n",
              "    }\n",
              "\n",
              "    .dataframe thead th {\n",
              "        text-align: right;\n",
              "    }\n",
              "</style>\n",
              "<table border=\"1\" class=\"dataframe\">\n",
              "  <thead>\n",
              "    <tr style=\"text-align: right;\">\n",
              "      <th></th>\n",
              "      <th>A</th>\n",
              "      <th>B</th>\n",
              "      <th>C</th>\n",
              "      <th>D</th>\n",
              "      <th>E</th>\n",
              "      <th>F</th>\n",
              "    </tr>\n",
              "  </thead>\n",
              "  <tbody>\n",
              "    <tr>\n",
              "      <th>0</th>\n",
              "      <td>1970-01-01 00:00:00.020130102</td>\n",
              "      <td>1.0</td>\n",
              "      <td>3</td>\n",
              "      <td>1.0</td>\n",
              "      <td>test</td>\n",
              "      <td>foo</td>\n",
              "    </tr>\n",
              "    <tr>\n",
              "      <th>1</th>\n",
              "      <td>1970-01-01 00:00:00.020130102</td>\n",
              "      <td>1.0</td>\n",
              "      <td>3</td>\n",
              "      <td>1.0</td>\n",
              "      <td>train</td>\n",
              "      <td>foo</td>\n",
              "    </tr>\n",
              "    <tr>\n",
              "      <th>2</th>\n",
              "      <td>1970-01-01 00:00:00.020130102</td>\n",
              "      <td>1.0</td>\n",
              "      <td>3</td>\n",
              "      <td>1.0</td>\n",
              "      <td>test</td>\n",
              "      <td>foo</td>\n",
              "    </tr>\n",
              "    <tr>\n",
              "      <th>3</th>\n",
              "      <td>1970-01-01 00:00:00.020130102</td>\n",
              "      <td>1.0</td>\n",
              "      <td>3</td>\n",
              "      <td>1.0</td>\n",
              "      <td>train</td>\n",
              "      <td>foo</td>\n",
              "    </tr>\n",
              "  </tbody>\n",
              "</table>\n",
              "</div>"
            ],
            "text/plain": [
              "                              A    B  C    D      E    F\n",
              "0 1970-01-01 00:00:00.020130102  1.0  3  1.0   test  foo\n",
              "1 1970-01-01 00:00:00.020130102  1.0  3  1.0  train  foo\n",
              "2 1970-01-01 00:00:00.020130102  1.0  3  1.0   test  foo\n",
              "3 1970-01-01 00:00:00.020130102  1.0  3  1.0  train  foo"
            ]
          },
          "metadata": {
            "tags": []
          },
          "execution_count": 11
        }
      ]
    },
    {
      "cell_type": "code",
      "metadata": {
        "id": "TUYdYzD1giM2",
        "colab_type": "code",
        "colab": {
          "base_uri": "https://localhost:8080/",
          "height": 134
        },
        "outputId": "0c04f044-8585-4022-df12-d0866c07d19a"
      },
      "source": [
        "df2.dtypes"
      ],
      "execution_count": 12,
      "outputs": [
        {
          "output_type": "execute_result",
          "data": {
            "text/plain": [
              "A    datetime64[ns]\n",
              "B           float32\n",
              "C             int32\n",
              "D           float64\n",
              "E          category\n",
              "F            object\n",
              "dtype: object"
            ]
          },
          "metadata": {
            "tags": []
          },
          "execution_count": 12
        }
      ]
    },
    {
      "cell_type": "markdown",
      "metadata": {
        "id": "fIREiIGFgyam",
        "colab_type": "text"
      },
      "source": [
        "## viewing data"
      ]
    },
    {
      "cell_type": "code",
      "metadata": {
        "id": "yN_Q_8Pmg1Lz",
        "colab_type": "code",
        "colab": {
          "base_uri": "https://localhost:8080/",
          "height": 67
        },
        "outputId": "87e87495-f126-4a14-8d3d-928e50872ce2"
      },
      "source": [
        "df.index"
      ],
      "execution_count": 13,
      "outputs": [
        {
          "output_type": "execute_result",
          "data": {
            "text/plain": [
              "DatetimeIndex(['2013-01-01', '2013-01-02', '2013-01-03', '2013-01-04',\n",
              "               '2013-01-05', '2013-01-06'],\n",
              "              dtype='datetime64[ns]', freq='D')"
            ]
          },
          "metadata": {
            "tags": []
          },
          "execution_count": 13
        }
      ]
    },
    {
      "cell_type": "code",
      "metadata": {
        "id": "L03_sn6Tg6aL",
        "colab_type": "code",
        "colab": {
          "base_uri": "https://localhost:8080/",
          "height": 34
        },
        "outputId": "cefe8f70-0d2c-4c3e-cfc0-c048821c568e"
      },
      "source": [
        "df.columns"
      ],
      "execution_count": 14,
      "outputs": [
        {
          "output_type": "execute_result",
          "data": {
            "text/plain": [
              "Index(['A', 'B', 'C', 'D'], dtype='object')"
            ]
          },
          "metadata": {
            "tags": []
          },
          "execution_count": 14
        }
      ]
    },
    {
      "cell_type": "markdown",
      "metadata": {
        "id": "6O76snRLibsY",
        "colab_type": "text"
      },
      "source": [
        "to_numpy will be relatively expensive for dataframe with multiple datatypes"
      ]
    },
    {
      "cell_type": "code",
      "metadata": {
        "id": "y9N3_6ydijfy",
        "colab_type": "code",
        "colab": {
          "base_uri": "https://localhost:8080/",
          "height": 166
        },
        "outputId": "297c26fa-f569-4001-f150-d519b5820d61"
      },
      "source": [
        "df.T  #TRANSPOSING"
      ],
      "execution_count": 16,
      "outputs": [
        {
          "output_type": "execute_result",
          "data": {
            "text/html": [
              "<div>\n",
              "<style scoped>\n",
              "    .dataframe tbody tr th:only-of-type {\n",
              "        vertical-align: middle;\n",
              "    }\n",
              "\n",
              "    .dataframe tbody tr th {\n",
              "        vertical-align: top;\n",
              "    }\n",
              "\n",
              "    .dataframe thead th {\n",
              "        text-align: right;\n",
              "    }\n",
              "</style>\n",
              "<table border=\"1\" class=\"dataframe\">\n",
              "  <thead>\n",
              "    <tr style=\"text-align: right;\">\n",
              "      <th></th>\n",
              "      <th>2013-01-01</th>\n",
              "      <th>2013-01-02</th>\n",
              "      <th>2013-01-03</th>\n",
              "      <th>2013-01-04</th>\n",
              "      <th>2013-01-05</th>\n",
              "      <th>2013-01-06</th>\n",
              "    </tr>\n",
              "  </thead>\n",
              "  <tbody>\n",
              "    <tr>\n",
              "      <th>A</th>\n",
              "      <td>0.763055</td>\n",
              "      <td>-0.618279</td>\n",
              "      <td>0.535734</td>\n",
              "      <td>-0.630800</td>\n",
              "      <td>0.534841</td>\n",
              "      <td>0.619902</td>\n",
              "    </tr>\n",
              "    <tr>\n",
              "      <th>B</th>\n",
              "      <td>0.232062</td>\n",
              "      <td>0.689766</td>\n",
              "      <td>1.885526</td>\n",
              "      <td>1.700747</td>\n",
              "      <td>0.253689</td>\n",
              "      <td>-0.978367</td>\n",
              "    </tr>\n",
              "    <tr>\n",
              "      <th>C</th>\n",
              "      <td>0.779666</td>\n",
              "      <td>-1.473013</td>\n",
              "      <td>-0.460454</td>\n",
              "      <td>0.040570</td>\n",
              "      <td>0.877194</td>\n",
              "      <td>0.048517</td>\n",
              "    </tr>\n",
              "    <tr>\n",
              "      <th>D</th>\n",
              "      <td>0.640516</td>\n",
              "      <td>0.807873</td>\n",
              "      <td>0.602638</td>\n",
              "      <td>-0.355759</td>\n",
              "      <td>-0.265996</td>\n",
              "      <td>0.019765</td>\n",
              "    </tr>\n",
              "  </tbody>\n",
              "</table>\n",
              "</div>"
            ],
            "text/plain": [
              "   2013-01-01  2013-01-02  2013-01-03  2013-01-04  2013-01-05  2013-01-06\n",
              "A    0.763055   -0.618279    0.535734   -0.630800    0.534841    0.619902\n",
              "B    0.232062    0.689766    1.885526    1.700747    0.253689   -0.978367\n",
              "C    0.779666   -1.473013   -0.460454    0.040570    0.877194    0.048517\n",
              "D    0.640516    0.807873    0.602638   -0.355759   -0.265996    0.019765"
            ]
          },
          "metadata": {
            "tags": []
          },
          "execution_count": 16
        }
      ]
    },
    {
      "cell_type": "code",
      "metadata": {
        "id": "IhgDMwjqiw91",
        "colab_type": "code",
        "colab": {
          "base_uri": "https://localhost:8080/",
          "height": 225
        },
        "outputId": "68349b6f-b9de-4e5a-bdc3-e41d35bb82c7"
      },
      "source": [
        "#SORTING BY AN AXIS\n",
        "df.sort_index(axis=1,ascending=False)"
      ],
      "execution_count": 17,
      "outputs": [
        {
          "output_type": "execute_result",
          "data": {
            "text/html": [
              "<div>\n",
              "<style scoped>\n",
              "    .dataframe tbody tr th:only-of-type {\n",
              "        vertical-align: middle;\n",
              "    }\n",
              "\n",
              "    .dataframe tbody tr th {\n",
              "        vertical-align: top;\n",
              "    }\n",
              "\n",
              "    .dataframe thead th {\n",
              "        text-align: right;\n",
              "    }\n",
              "</style>\n",
              "<table border=\"1\" class=\"dataframe\">\n",
              "  <thead>\n",
              "    <tr style=\"text-align: right;\">\n",
              "      <th></th>\n",
              "      <th>D</th>\n",
              "      <th>C</th>\n",
              "      <th>B</th>\n",
              "      <th>A</th>\n",
              "    </tr>\n",
              "  </thead>\n",
              "  <tbody>\n",
              "    <tr>\n",
              "      <th>2013-01-01</th>\n",
              "      <td>0.640516</td>\n",
              "      <td>0.779666</td>\n",
              "      <td>0.232062</td>\n",
              "      <td>0.763055</td>\n",
              "    </tr>\n",
              "    <tr>\n",
              "      <th>2013-01-02</th>\n",
              "      <td>0.807873</td>\n",
              "      <td>-1.473013</td>\n",
              "      <td>0.689766</td>\n",
              "      <td>-0.618279</td>\n",
              "    </tr>\n",
              "    <tr>\n",
              "      <th>2013-01-03</th>\n",
              "      <td>0.602638</td>\n",
              "      <td>-0.460454</td>\n",
              "      <td>1.885526</td>\n",
              "      <td>0.535734</td>\n",
              "    </tr>\n",
              "    <tr>\n",
              "      <th>2013-01-04</th>\n",
              "      <td>-0.355759</td>\n",
              "      <td>0.040570</td>\n",
              "      <td>1.700747</td>\n",
              "      <td>-0.630800</td>\n",
              "    </tr>\n",
              "    <tr>\n",
              "      <th>2013-01-05</th>\n",
              "      <td>-0.265996</td>\n",
              "      <td>0.877194</td>\n",
              "      <td>0.253689</td>\n",
              "      <td>0.534841</td>\n",
              "    </tr>\n",
              "    <tr>\n",
              "      <th>2013-01-06</th>\n",
              "      <td>0.019765</td>\n",
              "      <td>0.048517</td>\n",
              "      <td>-0.978367</td>\n",
              "      <td>0.619902</td>\n",
              "    </tr>\n",
              "  </tbody>\n",
              "</table>\n",
              "</div>"
            ],
            "text/plain": [
              "                   D         C         B         A\n",
              "2013-01-01  0.640516  0.779666  0.232062  0.763055\n",
              "2013-01-02  0.807873 -1.473013  0.689766 -0.618279\n",
              "2013-01-03  0.602638 -0.460454  1.885526  0.535734\n",
              "2013-01-04 -0.355759  0.040570  1.700747 -0.630800\n",
              "2013-01-05 -0.265996  0.877194  0.253689  0.534841\n",
              "2013-01-06  0.019765  0.048517 -0.978367  0.619902"
            ]
          },
          "metadata": {
            "tags": []
          },
          "execution_count": 17
        }
      ]
    },
    {
      "cell_type": "code",
      "metadata": {
        "id": "nnsviZNNi_Id",
        "colab_type": "code",
        "colab": {
          "base_uri": "https://localhost:8080/",
          "height": 225
        },
        "outputId": "6c050e1f-20f1-464e-d9f7-3bccc0ef8ee1"
      },
      "source": [
        "#SORTING BY VALUES\n",
        "df.sort_values(by='B')"
      ],
      "execution_count": 18,
      "outputs": [
        {
          "output_type": "execute_result",
          "data": {
            "text/html": [
              "<div>\n",
              "<style scoped>\n",
              "    .dataframe tbody tr th:only-of-type {\n",
              "        vertical-align: middle;\n",
              "    }\n",
              "\n",
              "    .dataframe tbody tr th {\n",
              "        vertical-align: top;\n",
              "    }\n",
              "\n",
              "    .dataframe thead th {\n",
              "        text-align: right;\n",
              "    }\n",
              "</style>\n",
              "<table border=\"1\" class=\"dataframe\">\n",
              "  <thead>\n",
              "    <tr style=\"text-align: right;\">\n",
              "      <th></th>\n",
              "      <th>A</th>\n",
              "      <th>B</th>\n",
              "      <th>C</th>\n",
              "      <th>D</th>\n",
              "    </tr>\n",
              "  </thead>\n",
              "  <tbody>\n",
              "    <tr>\n",
              "      <th>2013-01-06</th>\n",
              "      <td>0.619902</td>\n",
              "      <td>-0.978367</td>\n",
              "      <td>0.048517</td>\n",
              "      <td>0.019765</td>\n",
              "    </tr>\n",
              "    <tr>\n",
              "      <th>2013-01-01</th>\n",
              "      <td>0.763055</td>\n",
              "      <td>0.232062</td>\n",
              "      <td>0.779666</td>\n",
              "      <td>0.640516</td>\n",
              "    </tr>\n",
              "    <tr>\n",
              "      <th>2013-01-05</th>\n",
              "      <td>0.534841</td>\n",
              "      <td>0.253689</td>\n",
              "      <td>0.877194</td>\n",
              "      <td>-0.265996</td>\n",
              "    </tr>\n",
              "    <tr>\n",
              "      <th>2013-01-02</th>\n",
              "      <td>-0.618279</td>\n",
              "      <td>0.689766</td>\n",
              "      <td>-1.473013</td>\n",
              "      <td>0.807873</td>\n",
              "    </tr>\n",
              "    <tr>\n",
              "      <th>2013-01-04</th>\n",
              "      <td>-0.630800</td>\n",
              "      <td>1.700747</td>\n",
              "      <td>0.040570</td>\n",
              "      <td>-0.355759</td>\n",
              "    </tr>\n",
              "    <tr>\n",
              "      <th>2013-01-03</th>\n",
              "      <td>0.535734</td>\n",
              "      <td>1.885526</td>\n",
              "      <td>-0.460454</td>\n",
              "      <td>0.602638</td>\n",
              "    </tr>\n",
              "  </tbody>\n",
              "</table>\n",
              "</div>"
            ],
            "text/plain": [
              "                   A         B         C         D\n",
              "2013-01-06  0.619902 -0.978367  0.048517  0.019765\n",
              "2013-01-01  0.763055  0.232062  0.779666  0.640516\n",
              "2013-01-05  0.534841  0.253689  0.877194 -0.265996\n",
              "2013-01-02 -0.618279  0.689766 -1.473013  0.807873\n",
              "2013-01-04 -0.630800  1.700747  0.040570 -0.355759\n",
              "2013-01-03  0.535734  1.885526 -0.460454  0.602638"
            ]
          },
          "metadata": {
            "tags": []
          },
          "execution_count": 18
        }
      ]
    },
    {
      "cell_type": "markdown",
      "metadata": {
        "id": "CSlU3LFOjY9d",
        "colab_type": "text"
      },
      "source": [
        "## selection"
      ]
    },
    {
      "cell_type": "code",
      "metadata": {
        "id": "SjoC8SVtjdA3",
        "colab_type": "code",
        "colab": {
          "base_uri": "https://localhost:8080/",
          "height": 101
        },
        "outputId": "c4923b94-2e85-43e3-bbc9-b20b67eb4351"
      },
      "source": [
        "df.loc[d[0]]"
      ],
      "execution_count": 19,
      "outputs": [
        {
          "output_type": "execute_result",
          "data": {
            "text/plain": [
              "A    0.763055\n",
              "B    0.232062\n",
              "C    0.779666\n",
              "D    0.640516\n",
              "Name: 2013-01-01 00:00:00, dtype: float64"
            ]
          },
          "metadata": {
            "tags": []
          },
          "execution_count": 19
        }
      ]
    },
    {
      "cell_type": "code",
      "metadata": {
        "id": "ocCapWBGlZ-w",
        "colab_type": "code",
        "colab": {
          "base_uri": "https://localhost:8080/",
          "height": 34
        },
        "outputId": "33981097-4f6b-4b8a-d521-cd61093fdced"
      },
      "source": [
        "df.at[d[0],'A']"
      ],
      "execution_count": 21,
      "outputs": [
        {
          "output_type": "execute_result",
          "data": {
            "text/plain": [
              "0.7630553297875069"
            ]
          },
          "metadata": {
            "tags": []
          },
          "execution_count": 21
        }
      ]
    },
    {
      "cell_type": "code",
      "metadata": {
        "id": "cW7nlkVJlexL",
        "colab_type": "code",
        "colab": {
          "base_uri": "https://localhost:8080/",
          "height": 101
        },
        "outputId": "ed3745fd-edb0-4833-d3d1-a1fd2b61b3d7"
      },
      "source": [
        "df.iloc[3]"
      ],
      "execution_count": 22,
      "outputs": [
        {
          "output_type": "execute_result",
          "data": {
            "text/plain": [
              "A   -0.630800\n",
              "B    1.700747\n",
              "C    0.040570\n",
              "D   -0.355759\n",
              "Name: 2013-01-04 00:00:00, dtype: float64"
            ]
          },
          "metadata": {
            "tags": []
          },
          "execution_count": 22
        }
      ]
    },
    {
      "cell_type": "code",
      "metadata": {
        "id": "0Pi8vHJdltYf",
        "colab_type": "code",
        "colab": {
          "base_uri": "https://localhost:8080/",
          "height": 106
        },
        "outputId": "36cc5ad5-ec1c-476d-df59-f977bdee7cd1"
      },
      "source": [
        "df.iloc[3:5,0:2]"
      ],
      "execution_count": 23,
      "outputs": [
        {
          "output_type": "execute_result",
          "data": {
            "text/html": [
              "<div>\n",
              "<style scoped>\n",
              "    .dataframe tbody tr th:only-of-type {\n",
              "        vertical-align: middle;\n",
              "    }\n",
              "\n",
              "    .dataframe tbody tr th {\n",
              "        vertical-align: top;\n",
              "    }\n",
              "\n",
              "    .dataframe thead th {\n",
              "        text-align: right;\n",
              "    }\n",
              "</style>\n",
              "<table border=\"1\" class=\"dataframe\">\n",
              "  <thead>\n",
              "    <tr style=\"text-align: right;\">\n",
              "      <th></th>\n",
              "      <th>A</th>\n",
              "      <th>B</th>\n",
              "    </tr>\n",
              "  </thead>\n",
              "  <tbody>\n",
              "    <tr>\n",
              "      <th>2013-01-04</th>\n",
              "      <td>-0.630800</td>\n",
              "      <td>1.700747</td>\n",
              "    </tr>\n",
              "    <tr>\n",
              "      <th>2013-01-05</th>\n",
              "      <td>0.534841</td>\n",
              "      <td>0.253689</td>\n",
              "    </tr>\n",
              "  </tbody>\n",
              "</table>\n",
              "</div>"
            ],
            "text/plain": [
              "                   A         B\n",
              "2013-01-04 -0.630800  1.700747\n",
              "2013-01-05  0.534841  0.253689"
            ]
          },
          "metadata": {
            "tags": []
          },
          "execution_count": 23
        }
      ]
    },
    {
      "cell_type": "code",
      "metadata": {
        "id": "dKwdXZ8al6d0",
        "colab_type": "code",
        "colab": {
          "base_uri": "https://localhost:8080/",
          "height": 34
        },
        "outputId": "f79e718c-6e28-4479-e664-a0e1c3ee7fd0"
      },
      "source": [
        "df.iat[1,1]"
      ],
      "execution_count": 24,
      "outputs": [
        {
          "output_type": "execute_result",
          "data": {
            "text/plain": [
              "0.6897664622120568"
            ]
          },
          "metadata": {
            "tags": []
          },
          "execution_count": 24
        }
      ]
    },
    {
      "cell_type": "markdown",
      "metadata": {
        "id": "jaMz2qLlozoC",
        "colab_type": "text"
      },
      "source": [
        "## boolean"
      ]
    },
    {
      "cell_type": "code",
      "metadata": {
        "id": "iLxM1TBho1Wh",
        "colab_type": "code",
        "colab": {
          "base_uri": "https://localhost:8080/",
          "height": 166
        },
        "outputId": "ceaf3601-1997-4ca2-fef1-e2b1fc19fd27"
      },
      "source": [
        "df2"
      ],
      "execution_count": 25,
      "outputs": [
        {
          "output_type": "execute_result",
          "data": {
            "text/html": [
              "<div>\n",
              "<style scoped>\n",
              "    .dataframe tbody tr th:only-of-type {\n",
              "        vertical-align: middle;\n",
              "    }\n",
              "\n",
              "    .dataframe tbody tr th {\n",
              "        vertical-align: top;\n",
              "    }\n",
              "\n",
              "    .dataframe thead th {\n",
              "        text-align: right;\n",
              "    }\n",
              "</style>\n",
              "<table border=\"1\" class=\"dataframe\">\n",
              "  <thead>\n",
              "    <tr style=\"text-align: right;\">\n",
              "      <th></th>\n",
              "      <th>A</th>\n",
              "      <th>B</th>\n",
              "      <th>C</th>\n",
              "      <th>D</th>\n",
              "      <th>E</th>\n",
              "      <th>F</th>\n",
              "    </tr>\n",
              "  </thead>\n",
              "  <tbody>\n",
              "    <tr>\n",
              "      <th>0</th>\n",
              "      <td>1970-01-01 00:00:00.020130102</td>\n",
              "      <td>1.0</td>\n",
              "      <td>3</td>\n",
              "      <td>1.0</td>\n",
              "      <td>test</td>\n",
              "      <td>foo</td>\n",
              "    </tr>\n",
              "    <tr>\n",
              "      <th>1</th>\n",
              "      <td>1970-01-01 00:00:00.020130102</td>\n",
              "      <td>1.0</td>\n",
              "      <td>3</td>\n",
              "      <td>1.0</td>\n",
              "      <td>train</td>\n",
              "      <td>foo</td>\n",
              "    </tr>\n",
              "    <tr>\n",
              "      <th>2</th>\n",
              "      <td>1970-01-01 00:00:00.020130102</td>\n",
              "      <td>1.0</td>\n",
              "      <td>3</td>\n",
              "      <td>1.0</td>\n",
              "      <td>test</td>\n",
              "      <td>foo</td>\n",
              "    </tr>\n",
              "    <tr>\n",
              "      <th>3</th>\n",
              "      <td>1970-01-01 00:00:00.020130102</td>\n",
              "      <td>1.0</td>\n",
              "      <td>3</td>\n",
              "      <td>1.0</td>\n",
              "      <td>train</td>\n",
              "      <td>foo</td>\n",
              "    </tr>\n",
              "  </tbody>\n",
              "</table>\n",
              "</div>"
            ],
            "text/plain": [
              "                              A    B  C    D      E    F\n",
              "0 1970-01-01 00:00:00.020130102  1.0  3  1.0   test  foo\n",
              "1 1970-01-01 00:00:00.020130102  1.0  3  1.0  train  foo\n",
              "2 1970-01-01 00:00:00.020130102  1.0  3  1.0   test  foo\n",
              "3 1970-01-01 00:00:00.020130102  1.0  3  1.0  train  foo"
            ]
          },
          "metadata": {
            "tags": []
          },
          "execution_count": 25
        }
      ]
    },
    {
      "cell_type": "code",
      "metadata": {
        "id": "A9PDqEITo6xY",
        "colab_type": "code",
        "colab": {
          "base_uri": "https://localhost:8080/",
          "height": 106
        },
        "outputId": "c8cb270b-78a7-49eb-ae4f-7d46cdde530f"
      },
      "source": [
        "df2=df.copy()\n",
        "df2\n",
        "df2['E']=['one','one','two','three','four','three']\n",
        "df2[df2['E'].isin(['two','four'])]"
      ],
      "execution_count": 29,
      "outputs": [
        {
          "output_type": "execute_result",
          "data": {
            "text/html": [
              "<div>\n",
              "<style scoped>\n",
              "    .dataframe tbody tr th:only-of-type {\n",
              "        vertical-align: middle;\n",
              "    }\n",
              "\n",
              "    .dataframe tbody tr th {\n",
              "        vertical-align: top;\n",
              "    }\n",
              "\n",
              "    .dataframe thead th {\n",
              "        text-align: right;\n",
              "    }\n",
              "</style>\n",
              "<table border=\"1\" class=\"dataframe\">\n",
              "  <thead>\n",
              "    <tr style=\"text-align: right;\">\n",
              "      <th></th>\n",
              "      <th>A</th>\n",
              "      <th>B</th>\n",
              "      <th>C</th>\n",
              "      <th>D</th>\n",
              "      <th>E</th>\n",
              "    </tr>\n",
              "  </thead>\n",
              "  <tbody>\n",
              "    <tr>\n",
              "      <th>2013-01-03</th>\n",
              "      <td>0.535734</td>\n",
              "      <td>1.885526</td>\n",
              "      <td>-0.460454</td>\n",
              "      <td>0.602638</td>\n",
              "      <td>two</td>\n",
              "    </tr>\n",
              "    <tr>\n",
              "      <th>2013-01-05</th>\n",
              "      <td>0.534841</td>\n",
              "      <td>0.253689</td>\n",
              "      <td>0.877194</td>\n",
              "      <td>-0.265996</td>\n",
              "      <td>four</td>\n",
              "    </tr>\n",
              "  </tbody>\n",
              "</table>\n",
              "</div>"
            ],
            "text/plain": [
              "                   A         B         C         D     E\n",
              "2013-01-03  0.535734  1.885526 -0.460454  0.602638   two\n",
              "2013-01-05  0.534841  0.253689  0.877194 -0.265996  four"
            ]
          },
          "metadata": {
            "tags": []
          },
          "execution_count": 29
        }
      ]
    },
    {
      "cell_type": "code",
      "metadata": {
        "id": "9KS4LIARptL9",
        "colab_type": "code",
        "colab": {
          "base_uri": "https://localhost:8080/",
          "height": 225
        },
        "outputId": "e2145b73-35ae-488c-e4bd-2063406ef558"
      },
      "source": [
        "len(df)\n",
        "df.loc[:,'D']=np.array([5]*len(df))\n",
        "df2"
      ],
      "execution_count": 33,
      "outputs": [
        {
          "output_type": "execute_result",
          "data": {
            "text/html": [
              "<div>\n",
              "<style scoped>\n",
              "    .dataframe tbody tr th:only-of-type {\n",
              "        vertical-align: middle;\n",
              "    }\n",
              "\n",
              "    .dataframe tbody tr th {\n",
              "        vertical-align: top;\n",
              "    }\n",
              "\n",
              "    .dataframe thead th {\n",
              "        text-align: right;\n",
              "    }\n",
              "</style>\n",
              "<table border=\"1\" class=\"dataframe\">\n",
              "  <thead>\n",
              "    <tr style=\"text-align: right;\">\n",
              "      <th></th>\n",
              "      <th>A</th>\n",
              "      <th>B</th>\n",
              "      <th>C</th>\n",
              "      <th>D</th>\n",
              "      <th>E</th>\n",
              "    </tr>\n",
              "  </thead>\n",
              "  <tbody>\n",
              "    <tr>\n",
              "      <th>2013-01-01</th>\n",
              "      <td>0.763055</td>\n",
              "      <td>0.232062</td>\n",
              "      <td>0.779666</td>\n",
              "      <td>0.640516</td>\n",
              "      <td>one</td>\n",
              "    </tr>\n",
              "    <tr>\n",
              "      <th>2013-01-02</th>\n",
              "      <td>-0.618279</td>\n",
              "      <td>0.689766</td>\n",
              "      <td>-1.473013</td>\n",
              "      <td>0.807873</td>\n",
              "      <td>one</td>\n",
              "    </tr>\n",
              "    <tr>\n",
              "      <th>2013-01-03</th>\n",
              "      <td>0.535734</td>\n",
              "      <td>1.885526</td>\n",
              "      <td>-0.460454</td>\n",
              "      <td>0.602638</td>\n",
              "      <td>two</td>\n",
              "    </tr>\n",
              "    <tr>\n",
              "      <th>2013-01-04</th>\n",
              "      <td>-0.630800</td>\n",
              "      <td>1.700747</td>\n",
              "      <td>0.040570</td>\n",
              "      <td>-0.355759</td>\n",
              "      <td>three</td>\n",
              "    </tr>\n",
              "    <tr>\n",
              "      <th>2013-01-05</th>\n",
              "      <td>0.534841</td>\n",
              "      <td>0.253689</td>\n",
              "      <td>0.877194</td>\n",
              "      <td>-0.265996</td>\n",
              "      <td>four</td>\n",
              "    </tr>\n",
              "    <tr>\n",
              "      <th>2013-01-06</th>\n",
              "      <td>0.619902</td>\n",
              "      <td>-0.978367</td>\n",
              "      <td>0.048517</td>\n",
              "      <td>0.019765</td>\n",
              "      <td>three</td>\n",
              "    </tr>\n",
              "  </tbody>\n",
              "</table>\n",
              "</div>"
            ],
            "text/plain": [
              "                   A         B         C         D      E\n",
              "2013-01-01  0.763055  0.232062  0.779666  0.640516    one\n",
              "2013-01-02 -0.618279  0.689766 -1.473013  0.807873    one\n",
              "2013-01-03  0.535734  1.885526 -0.460454  0.602638    two\n",
              "2013-01-04 -0.630800  1.700747  0.040570 -0.355759  three\n",
              "2013-01-05  0.534841  0.253689  0.877194 -0.265996   four\n",
              "2013-01-06  0.619902 -0.978367  0.048517  0.019765  three"
            ]
          },
          "metadata": {
            "tags": []
          },
          "execution_count": 33
        }
      ]
    },
    {
      "cell_type": "code",
      "metadata": {
        "id": "_Fz9fYA2qMCT",
        "colab_type": "code",
        "colab": {
          "base_uri": "https://localhost:8080/",
          "height": 225
        },
        "outputId": "594931e1-c068-443f-9cbb-31135de517bf"
      },
      "source": [
        "df2=df.copy()\n",
        "df2[df2>0]=-df2\n",
        "df2"
      ],
      "execution_count": 34,
      "outputs": [
        {
          "output_type": "execute_result",
          "data": {
            "text/html": [
              "<div>\n",
              "<style scoped>\n",
              "    .dataframe tbody tr th:only-of-type {\n",
              "        vertical-align: middle;\n",
              "    }\n",
              "\n",
              "    .dataframe tbody tr th {\n",
              "        vertical-align: top;\n",
              "    }\n",
              "\n",
              "    .dataframe thead th {\n",
              "        text-align: right;\n",
              "    }\n",
              "</style>\n",
              "<table border=\"1\" class=\"dataframe\">\n",
              "  <thead>\n",
              "    <tr style=\"text-align: right;\">\n",
              "      <th></th>\n",
              "      <th>A</th>\n",
              "      <th>B</th>\n",
              "      <th>C</th>\n",
              "      <th>D</th>\n",
              "    </tr>\n",
              "  </thead>\n",
              "  <tbody>\n",
              "    <tr>\n",
              "      <th>2013-01-01</th>\n",
              "      <td>-0.763055</td>\n",
              "      <td>-0.232062</td>\n",
              "      <td>-0.779666</td>\n",
              "      <td>-5</td>\n",
              "    </tr>\n",
              "    <tr>\n",
              "      <th>2013-01-02</th>\n",
              "      <td>-0.618279</td>\n",
              "      <td>-0.689766</td>\n",
              "      <td>-1.473013</td>\n",
              "      <td>-5</td>\n",
              "    </tr>\n",
              "    <tr>\n",
              "      <th>2013-01-03</th>\n",
              "      <td>-0.535734</td>\n",
              "      <td>-1.885526</td>\n",
              "      <td>-0.460454</td>\n",
              "      <td>-5</td>\n",
              "    </tr>\n",
              "    <tr>\n",
              "      <th>2013-01-04</th>\n",
              "      <td>-0.630800</td>\n",
              "      <td>-1.700747</td>\n",
              "      <td>-0.040570</td>\n",
              "      <td>-5</td>\n",
              "    </tr>\n",
              "    <tr>\n",
              "      <th>2013-01-05</th>\n",
              "      <td>-0.534841</td>\n",
              "      <td>-0.253689</td>\n",
              "      <td>-0.877194</td>\n",
              "      <td>-5</td>\n",
              "    </tr>\n",
              "    <tr>\n",
              "      <th>2013-01-06</th>\n",
              "      <td>-0.619902</td>\n",
              "      <td>-0.978367</td>\n",
              "      <td>-0.048517</td>\n",
              "      <td>-5</td>\n",
              "    </tr>\n",
              "  </tbody>\n",
              "</table>\n",
              "</div>"
            ],
            "text/plain": [
              "                   A         B         C  D\n",
              "2013-01-01 -0.763055 -0.232062 -0.779666 -5\n",
              "2013-01-02 -0.618279 -0.689766 -1.473013 -5\n",
              "2013-01-03 -0.535734 -1.885526 -0.460454 -5\n",
              "2013-01-04 -0.630800 -1.700747 -0.040570 -5\n",
              "2013-01-05 -0.534841 -0.253689 -0.877194 -5\n",
              "2013-01-06 -0.619902 -0.978367 -0.048517 -5"
            ]
          },
          "metadata": {
            "tags": []
          },
          "execution_count": 34
        }
      ]
    },
    {
      "cell_type": "markdown",
      "metadata": {
        "id": "lBRlPgpdqY3Y",
        "colab_type": "text"
      },
      "source": [
        "## missing data"
      ]
    },
    {
      "cell_type": "code",
      "metadata": {
        "id": "Ekh96vFMqa_x",
        "colab_type": "code",
        "colab": {
          "base_uri": "https://localhost:8080/",
          "height": 166
        },
        "outputId": "f165f0be-f4fa-41a4-f9be-55a18d05c46c"
      },
      "source": [
        "df1=df.reindex(index=d[0:4],columns=list(df.columns)+['E'])\n",
        "df1.loc[d[0]:d[1],'E']=1\n",
        "df1"
      ],
      "execution_count": 39,
      "outputs": [
        {
          "output_type": "execute_result",
          "data": {
            "text/html": [
              "<div>\n",
              "<style scoped>\n",
              "    .dataframe tbody tr th:only-of-type {\n",
              "        vertical-align: middle;\n",
              "    }\n",
              "\n",
              "    .dataframe tbody tr th {\n",
              "        vertical-align: top;\n",
              "    }\n",
              "\n",
              "    .dataframe thead th {\n",
              "        text-align: right;\n",
              "    }\n",
              "</style>\n",
              "<table border=\"1\" class=\"dataframe\">\n",
              "  <thead>\n",
              "    <tr style=\"text-align: right;\">\n",
              "      <th></th>\n",
              "      <th>A</th>\n",
              "      <th>B</th>\n",
              "      <th>C</th>\n",
              "      <th>D</th>\n",
              "      <th>E</th>\n",
              "    </tr>\n",
              "  </thead>\n",
              "  <tbody>\n",
              "    <tr>\n",
              "      <th>2013-01-01</th>\n",
              "      <td>0.763055</td>\n",
              "      <td>0.232062</td>\n",
              "      <td>0.779666</td>\n",
              "      <td>5</td>\n",
              "      <td>1.0</td>\n",
              "    </tr>\n",
              "    <tr>\n",
              "      <th>2013-01-02</th>\n",
              "      <td>-0.618279</td>\n",
              "      <td>0.689766</td>\n",
              "      <td>-1.473013</td>\n",
              "      <td>5</td>\n",
              "      <td>1.0</td>\n",
              "    </tr>\n",
              "    <tr>\n",
              "      <th>2013-01-03</th>\n",
              "      <td>0.535734</td>\n",
              "      <td>1.885526</td>\n",
              "      <td>-0.460454</td>\n",
              "      <td>5</td>\n",
              "      <td>NaN</td>\n",
              "    </tr>\n",
              "    <tr>\n",
              "      <th>2013-01-04</th>\n",
              "      <td>-0.630800</td>\n",
              "      <td>1.700747</td>\n",
              "      <td>0.040570</td>\n",
              "      <td>5</td>\n",
              "      <td>NaN</td>\n",
              "    </tr>\n",
              "  </tbody>\n",
              "</table>\n",
              "</div>"
            ],
            "text/plain": [
              "                   A         B         C  D    E\n",
              "2013-01-01  0.763055  0.232062  0.779666  5  1.0\n",
              "2013-01-02 -0.618279  0.689766 -1.473013  5  1.0\n",
              "2013-01-03  0.535734  1.885526 -0.460454  5  NaN\n",
              "2013-01-04 -0.630800  1.700747  0.040570  5  NaN"
            ]
          },
          "metadata": {
            "tags": []
          },
          "execution_count": 39
        }
      ]
    },
    {
      "cell_type": "code",
      "metadata": {
        "id": "n_WTYQXyrYpU",
        "colab_type": "code",
        "colab": {
          "base_uri": "https://localhost:8080/",
          "height": 106
        },
        "outputId": "e82f89eb-4615-4fc3-b72f-f838d5937f40"
      },
      "source": [
        "df1.dropna(how='any')"
      ],
      "execution_count": 40,
      "outputs": [
        {
          "output_type": "execute_result",
          "data": {
            "text/html": [
              "<div>\n",
              "<style scoped>\n",
              "    .dataframe tbody tr th:only-of-type {\n",
              "        vertical-align: middle;\n",
              "    }\n",
              "\n",
              "    .dataframe tbody tr th {\n",
              "        vertical-align: top;\n",
              "    }\n",
              "\n",
              "    .dataframe thead th {\n",
              "        text-align: right;\n",
              "    }\n",
              "</style>\n",
              "<table border=\"1\" class=\"dataframe\">\n",
              "  <thead>\n",
              "    <tr style=\"text-align: right;\">\n",
              "      <th></th>\n",
              "      <th>A</th>\n",
              "      <th>B</th>\n",
              "      <th>C</th>\n",
              "      <th>D</th>\n",
              "      <th>E</th>\n",
              "    </tr>\n",
              "  </thead>\n",
              "  <tbody>\n",
              "    <tr>\n",
              "      <th>2013-01-01</th>\n",
              "      <td>0.763055</td>\n",
              "      <td>0.232062</td>\n",
              "      <td>0.779666</td>\n",
              "      <td>5</td>\n",
              "      <td>1.0</td>\n",
              "    </tr>\n",
              "    <tr>\n",
              "      <th>2013-01-02</th>\n",
              "      <td>-0.618279</td>\n",
              "      <td>0.689766</td>\n",
              "      <td>-1.473013</td>\n",
              "      <td>5</td>\n",
              "      <td>1.0</td>\n",
              "    </tr>\n",
              "  </tbody>\n",
              "</table>\n",
              "</div>"
            ],
            "text/plain": [
              "                   A         B         C  D    E\n",
              "2013-01-01  0.763055  0.232062  0.779666  5  1.0\n",
              "2013-01-02 -0.618279  0.689766 -1.473013  5  1.0"
            ]
          },
          "metadata": {
            "tags": []
          },
          "execution_count": 40
        }
      ]
    },
    {
      "cell_type": "code",
      "metadata": {
        "id": "CmcmfHlprlU6",
        "colab_type": "code",
        "colab": {
          "base_uri": "https://localhost:8080/",
          "height": 166
        },
        "outputId": "a4496f6e-d630-40b0-d070-e50f887d6265"
      },
      "source": [
        "df1.fillna(value=5)"
      ],
      "execution_count": 41,
      "outputs": [
        {
          "output_type": "execute_result",
          "data": {
            "text/html": [
              "<div>\n",
              "<style scoped>\n",
              "    .dataframe tbody tr th:only-of-type {\n",
              "        vertical-align: middle;\n",
              "    }\n",
              "\n",
              "    .dataframe tbody tr th {\n",
              "        vertical-align: top;\n",
              "    }\n",
              "\n",
              "    .dataframe thead th {\n",
              "        text-align: right;\n",
              "    }\n",
              "</style>\n",
              "<table border=\"1\" class=\"dataframe\">\n",
              "  <thead>\n",
              "    <tr style=\"text-align: right;\">\n",
              "      <th></th>\n",
              "      <th>A</th>\n",
              "      <th>B</th>\n",
              "      <th>C</th>\n",
              "      <th>D</th>\n",
              "      <th>E</th>\n",
              "    </tr>\n",
              "  </thead>\n",
              "  <tbody>\n",
              "    <tr>\n",
              "      <th>2013-01-01</th>\n",
              "      <td>0.763055</td>\n",
              "      <td>0.232062</td>\n",
              "      <td>0.779666</td>\n",
              "      <td>5</td>\n",
              "      <td>1.0</td>\n",
              "    </tr>\n",
              "    <tr>\n",
              "      <th>2013-01-02</th>\n",
              "      <td>-0.618279</td>\n",
              "      <td>0.689766</td>\n",
              "      <td>-1.473013</td>\n",
              "      <td>5</td>\n",
              "      <td>1.0</td>\n",
              "    </tr>\n",
              "    <tr>\n",
              "      <th>2013-01-03</th>\n",
              "      <td>0.535734</td>\n",
              "      <td>1.885526</td>\n",
              "      <td>-0.460454</td>\n",
              "      <td>5</td>\n",
              "      <td>5.0</td>\n",
              "    </tr>\n",
              "    <tr>\n",
              "      <th>2013-01-04</th>\n",
              "      <td>-0.630800</td>\n",
              "      <td>1.700747</td>\n",
              "      <td>0.040570</td>\n",
              "      <td>5</td>\n",
              "      <td>5.0</td>\n",
              "    </tr>\n",
              "  </tbody>\n",
              "</table>\n",
              "</div>"
            ],
            "text/plain": [
              "                   A         B         C  D    E\n",
              "2013-01-01  0.763055  0.232062  0.779666  5  1.0\n",
              "2013-01-02 -0.618279  0.689766 -1.473013  5  1.0\n",
              "2013-01-03  0.535734  1.885526 -0.460454  5  5.0\n",
              "2013-01-04 -0.630800  1.700747  0.040570  5  5.0"
            ]
          },
          "metadata": {
            "tags": []
          },
          "execution_count": 41
        }
      ]
    },
    {
      "cell_type": "code",
      "metadata": {
        "id": "svao6prtrrZZ",
        "colab_type": "code",
        "colab": {
          "base_uri": "https://localhost:8080/",
          "height": 166
        },
        "outputId": "984d501a-ffdc-4eca-f257-3a1a1a8ddef4"
      },
      "source": [
        "pd.isna(df1)"
      ],
      "execution_count": 42,
      "outputs": [
        {
          "output_type": "execute_result",
          "data": {
            "text/html": [
              "<div>\n",
              "<style scoped>\n",
              "    .dataframe tbody tr th:only-of-type {\n",
              "        vertical-align: middle;\n",
              "    }\n",
              "\n",
              "    .dataframe tbody tr th {\n",
              "        vertical-align: top;\n",
              "    }\n",
              "\n",
              "    .dataframe thead th {\n",
              "        text-align: right;\n",
              "    }\n",
              "</style>\n",
              "<table border=\"1\" class=\"dataframe\">\n",
              "  <thead>\n",
              "    <tr style=\"text-align: right;\">\n",
              "      <th></th>\n",
              "      <th>A</th>\n",
              "      <th>B</th>\n",
              "      <th>C</th>\n",
              "      <th>D</th>\n",
              "      <th>E</th>\n",
              "    </tr>\n",
              "  </thead>\n",
              "  <tbody>\n",
              "    <tr>\n",
              "      <th>2013-01-01</th>\n",
              "      <td>False</td>\n",
              "      <td>False</td>\n",
              "      <td>False</td>\n",
              "      <td>False</td>\n",
              "      <td>False</td>\n",
              "    </tr>\n",
              "    <tr>\n",
              "      <th>2013-01-02</th>\n",
              "      <td>False</td>\n",
              "      <td>False</td>\n",
              "      <td>False</td>\n",
              "      <td>False</td>\n",
              "      <td>False</td>\n",
              "    </tr>\n",
              "    <tr>\n",
              "      <th>2013-01-03</th>\n",
              "      <td>False</td>\n",
              "      <td>False</td>\n",
              "      <td>False</td>\n",
              "      <td>False</td>\n",
              "      <td>True</td>\n",
              "    </tr>\n",
              "    <tr>\n",
              "      <th>2013-01-04</th>\n",
              "      <td>False</td>\n",
              "      <td>False</td>\n",
              "      <td>False</td>\n",
              "      <td>False</td>\n",
              "      <td>True</td>\n",
              "    </tr>\n",
              "  </tbody>\n",
              "</table>\n",
              "</div>"
            ],
            "text/plain": [
              "                A      B      C      D      E\n",
              "2013-01-01  False  False  False  False  False\n",
              "2013-01-02  False  False  False  False  False\n",
              "2013-01-03  False  False  False  False   True\n",
              "2013-01-04  False  False  False  False   True"
            ]
          },
          "metadata": {
            "tags": []
          },
          "execution_count": 42
        }
      ]
    },
    {
      "cell_type": "markdown",
      "metadata": {
        "id": "6xrPKq6MtoVA",
        "colab_type": "text"
      },
      "source": [
        "## operations"
      ]
    },
    {
      "cell_type": "code",
      "metadata": {
        "id": "TkzyU3letqPq",
        "colab_type": "code",
        "colab": {
          "base_uri": "https://localhost:8080/",
          "height": 101
        },
        "outputId": "8fc672d8-14c9-48f4-c0fe-0ba4e5b9b938"
      },
      "source": [
        "df.mean()"
      ],
      "execution_count": 49,
      "outputs": [
        {
          "output_type": "execute_result",
          "data": {
            "text/plain": [
              "A    0.200742\n",
              "B    0.630570\n",
              "C   -0.031253\n",
              "D    5.000000\n",
              "dtype: float64"
            ]
          },
          "metadata": {
            "tags": []
          },
          "execution_count": 49
        }
      ]
    },
    {
      "cell_type": "code",
      "metadata": {
        "id": "qevKtdy_tvow",
        "colab_type": "code",
        "colab": {
          "base_uri": "https://localhost:8080/",
          "height": 134
        },
        "outputId": "e08729a3-37dc-4dd6-ec7c-c2986eb8119f"
      },
      "source": [
        "df.mean(1)"
      ],
      "execution_count": 50,
      "outputs": [
        {
          "output_type": "execute_result",
          "data": {
            "text/plain": [
              "2013-01-01    1.693696\n",
              "2013-01-02    0.899619\n",
              "2013-01-03    1.740201\n",
              "2013-01-04    1.527629\n",
              "2013-01-05    1.666431\n",
              "2013-01-06    1.172513\n",
              "Freq: D, dtype: float64"
            ]
          },
          "metadata": {
            "tags": []
          },
          "execution_count": 50
        }
      ]
    },
    {
      "cell_type": "code",
      "metadata": {
        "id": "qg9xkjXIuVEH",
        "colab_type": "code",
        "colab": {
          "base_uri": "https://localhost:8080/",
          "height": 225
        },
        "outputId": "36fcd0c0-4ec1-4bd5-f225-c64bc37a4fc3"
      },
      "source": [
        "df.apply(np.cumsum)  #cumulative summing"
      ],
      "execution_count": 51,
      "outputs": [
        {
          "output_type": "execute_result",
          "data": {
            "text/html": [
              "<div>\n",
              "<style scoped>\n",
              "    .dataframe tbody tr th:only-of-type {\n",
              "        vertical-align: middle;\n",
              "    }\n",
              "\n",
              "    .dataframe tbody tr th {\n",
              "        vertical-align: top;\n",
              "    }\n",
              "\n",
              "    .dataframe thead th {\n",
              "        text-align: right;\n",
              "    }\n",
              "</style>\n",
              "<table border=\"1\" class=\"dataframe\">\n",
              "  <thead>\n",
              "    <tr style=\"text-align: right;\">\n",
              "      <th></th>\n",
              "      <th>A</th>\n",
              "      <th>B</th>\n",
              "      <th>C</th>\n",
              "      <th>D</th>\n",
              "    </tr>\n",
              "  </thead>\n",
              "  <tbody>\n",
              "    <tr>\n",
              "      <th>2013-01-01</th>\n",
              "      <td>0.763055</td>\n",
              "      <td>0.232062</td>\n",
              "      <td>0.779666</td>\n",
              "      <td>5</td>\n",
              "    </tr>\n",
              "    <tr>\n",
              "      <th>2013-01-02</th>\n",
              "      <td>0.144776</td>\n",
              "      <td>0.921828</td>\n",
              "      <td>-0.693347</td>\n",
              "      <td>10</td>\n",
              "    </tr>\n",
              "    <tr>\n",
              "      <th>2013-01-03</th>\n",
              "      <td>0.680510</td>\n",
              "      <td>2.807354</td>\n",
              "      <td>-1.153801</td>\n",
              "      <td>15</td>\n",
              "    </tr>\n",
              "    <tr>\n",
              "      <th>2013-01-04</th>\n",
              "      <td>0.049710</td>\n",
              "      <td>4.508101</td>\n",
              "      <td>-1.113231</td>\n",
              "      <td>20</td>\n",
              "    </tr>\n",
              "    <tr>\n",
              "      <th>2013-01-05</th>\n",
              "      <td>0.584551</td>\n",
              "      <td>4.761790</td>\n",
              "      <td>-0.236037</td>\n",
              "      <td>25</td>\n",
              "    </tr>\n",
              "    <tr>\n",
              "      <th>2013-01-06</th>\n",
              "      <td>1.204452</td>\n",
              "      <td>3.783422</td>\n",
              "      <td>-0.187519</td>\n",
              "      <td>30</td>\n",
              "    </tr>\n",
              "  </tbody>\n",
              "</table>\n",
              "</div>"
            ],
            "text/plain": [
              "                   A         B         C   D\n",
              "2013-01-01  0.763055  0.232062  0.779666   5\n",
              "2013-01-02  0.144776  0.921828 -0.693347  10\n",
              "2013-01-03  0.680510  2.807354 -1.153801  15\n",
              "2013-01-04  0.049710  4.508101 -1.113231  20\n",
              "2013-01-05  0.584551  4.761790 -0.236037  25\n",
              "2013-01-06  1.204452  3.783422 -0.187519  30"
            ]
          },
          "metadata": {
            "tags": []
          },
          "execution_count": 51
        }
      ]
    },
    {
      "cell_type": "markdown",
      "metadata": {
        "id": "Aj7eLN6GvKjk",
        "colab_type": "text"
      },
      "source": [
        "## histogramming"
      ]
    },
    {
      "cell_type": "code",
      "metadata": {
        "id": "ti6jypijvQIS",
        "colab_type": "code",
        "colab": {
          "base_uri": "https://localhost:8080/",
          "height": 134
        },
        "outputId": "f1e23734-1302-4d21-b39f-a2960d216d4e"
      },
      "source": [
        "s=pd.Series(np.random.randint(0,7,size=10))\n",
        "s.value_counts()"
      ],
      "execution_count": 52,
      "outputs": [
        {
          "output_type": "execute_result",
          "data": {
            "text/plain": [
              "0    3\n",
              "5    2\n",
              "3    2\n",
              "6    1\n",
              "4    1\n",
              "1    1\n",
              "dtype: int64"
            ]
          },
          "metadata": {
            "tags": []
          },
          "execution_count": 52
        }
      ]
    },
    {
      "cell_type": "markdown",
      "metadata": {
        "id": "Qv3pt8Tnvu_J",
        "colab_type": "text"
      },
      "source": [
        "## string"
      ]
    },
    {
      "cell_type": "code",
      "metadata": {
        "id": "VrMjFsQKvwsZ",
        "colab_type": "code",
        "colab": {
          "base_uri": "https://localhost:8080/",
          "height": 118
        },
        "outputId": "658435d0-2ae6-4096-b007-e547561d3ece"
      },
      "source": [
        "s=pd.Series(['A','B','C','AaBa',np.nan])\n",
        "s.str.lower()"
      ],
      "execution_count": 53,
      "outputs": [
        {
          "output_type": "execute_result",
          "data": {
            "text/plain": [
              "0       a\n",
              "1       b\n",
              "2       c\n",
              "3    aaba\n",
              "4     NaN\n",
              "dtype: object"
            ]
          },
          "metadata": {
            "tags": []
          },
          "execution_count": 53
        }
      ]
    },
    {
      "cell_type": "markdown",
      "metadata": {
        "id": "7GQ7sPy1xeGA",
        "colab_type": "text"
      },
      "source": [
        "## merge"
      ]
    },
    {
      "cell_type": "code",
      "metadata": {
        "id": "Difvr8lcul6u",
        "colab_type": "code",
        "colab": {
          "base_uri": "https://localhost:8080/",
          "height": 343
        },
        "outputId": "dcabebd6-7484-45b0-8f19-2d668853c67b"
      },
      "source": [
        "df=pd.DataFrame(np.random.randn(10,4))\n",
        "pieces=[df[:3],df[3:7],df[7:]]\n",
        "pd.concat(pieces)"
      ],
      "execution_count": 55,
      "outputs": [
        {
          "output_type": "execute_result",
          "data": {
            "text/html": [
              "<div>\n",
              "<style scoped>\n",
              "    .dataframe tbody tr th:only-of-type {\n",
              "        vertical-align: middle;\n",
              "    }\n",
              "\n",
              "    .dataframe tbody tr th {\n",
              "        vertical-align: top;\n",
              "    }\n",
              "\n",
              "    .dataframe thead th {\n",
              "        text-align: right;\n",
              "    }\n",
              "</style>\n",
              "<table border=\"1\" class=\"dataframe\">\n",
              "  <thead>\n",
              "    <tr style=\"text-align: right;\">\n",
              "      <th></th>\n",
              "      <th>0</th>\n",
              "      <th>1</th>\n",
              "      <th>2</th>\n",
              "      <th>3</th>\n",
              "    </tr>\n",
              "  </thead>\n",
              "  <tbody>\n",
              "    <tr>\n",
              "      <th>0</th>\n",
              "      <td>0.478548</td>\n",
              "      <td>-0.252558</td>\n",
              "      <td>-0.589660</td>\n",
              "      <td>0.278770</td>\n",
              "    </tr>\n",
              "    <tr>\n",
              "      <th>1</th>\n",
              "      <td>-0.356297</td>\n",
              "      <td>-0.809042</td>\n",
              "      <td>0.325282</td>\n",
              "      <td>0.526571</td>\n",
              "    </tr>\n",
              "    <tr>\n",
              "      <th>2</th>\n",
              "      <td>1.372351</td>\n",
              "      <td>0.360141</td>\n",
              "      <td>0.684331</td>\n",
              "      <td>0.940532</td>\n",
              "    </tr>\n",
              "    <tr>\n",
              "      <th>3</th>\n",
              "      <td>0.795334</td>\n",
              "      <td>0.272722</td>\n",
              "      <td>-0.745089</td>\n",
              "      <td>-0.226146</td>\n",
              "    </tr>\n",
              "    <tr>\n",
              "      <th>4</th>\n",
              "      <td>0.760438</td>\n",
              "      <td>-0.236181</td>\n",
              "      <td>0.542389</td>\n",
              "      <td>0.473278</td>\n",
              "    </tr>\n",
              "    <tr>\n",
              "      <th>5</th>\n",
              "      <td>0.736510</td>\n",
              "      <td>-1.083833</td>\n",
              "      <td>-0.350918</td>\n",
              "      <td>0.711099</td>\n",
              "    </tr>\n",
              "    <tr>\n",
              "      <th>6</th>\n",
              "      <td>-0.992729</td>\n",
              "      <td>0.411755</td>\n",
              "      <td>0.039852</td>\n",
              "      <td>0.744290</td>\n",
              "    </tr>\n",
              "    <tr>\n",
              "      <th>7</th>\n",
              "      <td>-0.128079</td>\n",
              "      <td>0.688296</td>\n",
              "      <td>-1.816034</td>\n",
              "      <td>1.244108</td>\n",
              "    </tr>\n",
              "    <tr>\n",
              "      <th>8</th>\n",
              "      <td>-1.910052</td>\n",
              "      <td>0.932874</td>\n",
              "      <td>-2.057844</td>\n",
              "      <td>0.355458</td>\n",
              "    </tr>\n",
              "    <tr>\n",
              "      <th>9</th>\n",
              "      <td>0.021996</td>\n",
              "      <td>-0.108095</td>\n",
              "      <td>0.157351</td>\n",
              "      <td>0.509619</td>\n",
              "    </tr>\n",
              "  </tbody>\n",
              "</table>\n",
              "</div>"
            ],
            "text/plain": [
              "          0         1         2         3\n",
              "0  0.478548 -0.252558 -0.589660  0.278770\n",
              "1 -0.356297 -0.809042  0.325282  0.526571\n",
              "2  1.372351  0.360141  0.684331  0.940532\n",
              "3  0.795334  0.272722 -0.745089 -0.226146\n",
              "4  0.760438 -0.236181  0.542389  0.473278\n",
              "5  0.736510 -1.083833 -0.350918  0.711099\n",
              "6 -0.992729  0.411755  0.039852  0.744290\n",
              "7 -0.128079  0.688296 -1.816034  1.244108\n",
              "8 -1.910052  0.932874 -2.057844  0.355458\n",
              "9  0.021996 -0.108095  0.157351  0.509619"
            ]
          },
          "metadata": {
            "tags": []
          },
          "execution_count": 55
        }
      ]
    },
    {
      "cell_type": "markdown",
      "metadata": {
        "id": "a5pK5LuxyEz2",
        "colab_type": "text"
      },
      "source": [
        "## join"
      ]
    },
    {
      "cell_type": "code",
      "metadata": {
        "id": "YHZQ-FpJyGLX",
        "colab_type": "code",
        "colab": {
          "base_uri": "https://localhost:8080/",
          "height": 166
        },
        "outputId": "f73da3a1-68b4-4185-8b6a-774602b3aa37"
      },
      "source": [
        "left=pd.DataFrame({'key':['foo','foo'],'lval':[1,2]})\n",
        "right=pd.DataFrame({'key':['foo','foo'],'rval':[4,5]})\n",
        "pd.merge(left,right,on='key')"
      ],
      "execution_count": 58,
      "outputs": [
        {
          "output_type": "execute_result",
          "data": {
            "text/html": [
              "<div>\n",
              "<style scoped>\n",
              "    .dataframe tbody tr th:only-of-type {\n",
              "        vertical-align: middle;\n",
              "    }\n",
              "\n",
              "    .dataframe tbody tr th {\n",
              "        vertical-align: top;\n",
              "    }\n",
              "\n",
              "    .dataframe thead th {\n",
              "        text-align: right;\n",
              "    }\n",
              "</style>\n",
              "<table border=\"1\" class=\"dataframe\">\n",
              "  <thead>\n",
              "    <tr style=\"text-align: right;\">\n",
              "      <th></th>\n",
              "      <th>key</th>\n",
              "      <th>lval</th>\n",
              "      <th>rval</th>\n",
              "    </tr>\n",
              "  </thead>\n",
              "  <tbody>\n",
              "    <tr>\n",
              "      <th>0</th>\n",
              "      <td>foo</td>\n",
              "      <td>1</td>\n",
              "      <td>4</td>\n",
              "    </tr>\n",
              "    <tr>\n",
              "      <th>1</th>\n",
              "      <td>foo</td>\n",
              "      <td>1</td>\n",
              "      <td>5</td>\n",
              "    </tr>\n",
              "    <tr>\n",
              "      <th>2</th>\n",
              "      <td>foo</td>\n",
              "      <td>2</td>\n",
              "      <td>4</td>\n",
              "    </tr>\n",
              "    <tr>\n",
              "      <th>3</th>\n",
              "      <td>foo</td>\n",
              "      <td>2</td>\n",
              "      <td>5</td>\n",
              "    </tr>\n",
              "  </tbody>\n",
              "</table>\n",
              "</div>"
            ],
            "text/plain": [
              "   key  lval  rval\n",
              "0  foo     1     4\n",
              "1  foo     1     5\n",
              "2  foo     2     4\n",
              "3  foo     2     5"
            ]
          },
          "metadata": {
            "tags": []
          },
          "execution_count": 58
        }
      ]
    },
    {
      "cell_type": "markdown",
      "metadata": {
        "id": "QTmgUD1Sy2uG",
        "colab_type": "text"
      },
      "source": [
        "## groupby"
      ]
    },
    {
      "cell_type": "code",
      "metadata": {
        "id": "MlaPyA9hy4iP",
        "colab_type": "code",
        "colab": {
          "base_uri": "https://localhost:8080/",
          "height": 136
        },
        "outputId": "aea6f310-9da1-4d86-906d-cf397a807e98"
      },
      "source": [
        "df=pd.DataFrame({'A':['foo','foo','foof'],'B':[1,2,3]})\n",
        "df"
      ],
      "execution_count": 64,
      "outputs": [
        {
          "output_type": "execute_result",
          "data": {
            "text/html": [
              "<div>\n",
              "<style scoped>\n",
              "    .dataframe tbody tr th:only-of-type {\n",
              "        vertical-align: middle;\n",
              "    }\n",
              "\n",
              "    .dataframe tbody tr th {\n",
              "        vertical-align: top;\n",
              "    }\n",
              "\n",
              "    .dataframe thead th {\n",
              "        text-align: right;\n",
              "    }\n",
              "</style>\n",
              "<table border=\"1\" class=\"dataframe\">\n",
              "  <thead>\n",
              "    <tr style=\"text-align: right;\">\n",
              "      <th></th>\n",
              "      <th>A</th>\n",
              "      <th>B</th>\n",
              "    </tr>\n",
              "  </thead>\n",
              "  <tbody>\n",
              "    <tr>\n",
              "      <th>0</th>\n",
              "      <td>foo</td>\n",
              "      <td>1</td>\n",
              "    </tr>\n",
              "    <tr>\n",
              "      <th>1</th>\n",
              "      <td>foo</td>\n",
              "      <td>2</td>\n",
              "    </tr>\n",
              "    <tr>\n",
              "      <th>2</th>\n",
              "      <td>foof</td>\n",
              "      <td>3</td>\n",
              "    </tr>\n",
              "  </tbody>\n",
              "</table>\n",
              "</div>"
            ],
            "text/plain": [
              "      A  B\n",
              "0   foo  1\n",
              "1   foo  2\n",
              "2  foof  3"
            ]
          },
          "metadata": {
            "tags": []
          },
          "execution_count": 64
        }
      ]
    },
    {
      "cell_type": "code",
      "metadata": {
        "id": "FlPsclF_y9LC",
        "colab_type": "code",
        "colab": {
          "base_uri": "https://localhost:8080/",
          "height": 136
        },
        "outputId": "00144958-fd9a-4775-db7f-17437e873718"
      },
      "source": [
        "df.groupby('A').sum()"
      ],
      "execution_count": 67,
      "outputs": [
        {
          "output_type": "execute_result",
          "data": {
            "text/html": [
              "<div>\n",
              "<style scoped>\n",
              "    .dataframe tbody tr th:only-of-type {\n",
              "        vertical-align: middle;\n",
              "    }\n",
              "\n",
              "    .dataframe tbody tr th {\n",
              "        vertical-align: top;\n",
              "    }\n",
              "\n",
              "    .dataframe thead th {\n",
              "        text-align: right;\n",
              "    }\n",
              "</style>\n",
              "<table border=\"1\" class=\"dataframe\">\n",
              "  <thead>\n",
              "    <tr style=\"text-align: right;\">\n",
              "      <th></th>\n",
              "      <th>B</th>\n",
              "    </tr>\n",
              "    <tr>\n",
              "      <th>A</th>\n",
              "      <th></th>\n",
              "    </tr>\n",
              "  </thead>\n",
              "  <tbody>\n",
              "    <tr>\n",
              "      <th>foo</th>\n",
              "      <td>3</td>\n",
              "    </tr>\n",
              "    <tr>\n",
              "      <th>foof</th>\n",
              "      <td>3</td>\n",
              "    </tr>\n",
              "  </tbody>\n",
              "</table>\n",
              "</div>"
            ],
            "text/plain": [
              "      B\n",
              "A      \n",
              "foo   3\n",
              "foof  3"
            ]
          },
          "metadata": {
            "tags": []
          },
          "execution_count": 67
        }
      ]
    },
    {
      "cell_type": "code",
      "metadata": {
        "id": "rK0cwM9BztmX",
        "colab_type": "code",
        "colab": {
          "base_uri": "https://localhost:8080/",
          "height": 150
        },
        "outputId": "4ddf1e29-2b61-48e2-8fbf-ba42c9d4b081"
      },
      "source": [
        "df.groupby(['A','B']).sum()"
      ],
      "execution_count": 68,
      "outputs": [
        {
          "output_type": "execute_result",
          "data": {
            "text/html": [
              "<div>\n",
              "<style scoped>\n",
              "    .dataframe tbody tr th:only-of-type {\n",
              "        vertical-align: middle;\n",
              "    }\n",
              "\n",
              "    .dataframe tbody tr th {\n",
              "        vertical-align: top;\n",
              "    }\n",
              "\n",
              "    .dataframe thead th {\n",
              "        text-align: right;\n",
              "    }\n",
              "</style>\n",
              "<table border=\"1\" class=\"dataframe\">\n",
              "  <thead>\n",
              "    <tr style=\"text-align: right;\">\n",
              "      <th></th>\n",
              "      <th></th>\n",
              "    </tr>\n",
              "    <tr>\n",
              "      <th>A</th>\n",
              "      <th>B</th>\n",
              "    </tr>\n",
              "  </thead>\n",
              "  <tbody>\n",
              "    <tr>\n",
              "      <th rowspan=\"2\" valign=\"top\">foo</th>\n",
              "      <th>1</th>\n",
              "    </tr>\n",
              "    <tr>\n",
              "      <th>2</th>\n",
              "    </tr>\n",
              "    <tr>\n",
              "      <th>foof</th>\n",
              "      <th>3</th>\n",
              "    </tr>\n",
              "  </tbody>\n",
              "</table>\n",
              "</div>"
            ],
            "text/plain": [
              "Empty DataFrame\n",
              "Columns: []\n",
              "Index: [(foo, 1), (foo, 2), (foof, 3)]"
            ]
          },
          "metadata": {
            "tags": []
          },
          "execution_count": 68
        }
      ]
    },
    {
      "cell_type": "markdown",
      "metadata": {
        "id": "PLv0r-f9-hSa",
        "colab_type": "text"
      },
      "source": [
        "## reshaping"
      ]
    },
    {
      "cell_type": "code",
      "metadata": {
        "id": "-mSSYl66-jZm",
        "colab_type": "code",
        "colab": {
          "base_uri": "https://localhost:8080/",
          "height": 166
        },
        "outputId": "402533f1-87c9-4485-a362-817fef5d4a12"
      },
      "source": [
        "df1"
      ],
      "execution_count": 70,
      "outputs": [
        {
          "output_type": "execute_result",
          "data": {
            "text/html": [
              "<div>\n",
              "<style scoped>\n",
              "    .dataframe tbody tr th:only-of-type {\n",
              "        vertical-align: middle;\n",
              "    }\n",
              "\n",
              "    .dataframe tbody tr th {\n",
              "        vertical-align: top;\n",
              "    }\n",
              "\n",
              "    .dataframe thead th {\n",
              "        text-align: right;\n",
              "    }\n",
              "</style>\n",
              "<table border=\"1\" class=\"dataframe\">\n",
              "  <thead>\n",
              "    <tr style=\"text-align: right;\">\n",
              "      <th></th>\n",
              "      <th>A</th>\n",
              "      <th>B</th>\n",
              "      <th>C</th>\n",
              "      <th>D</th>\n",
              "      <th>E</th>\n",
              "    </tr>\n",
              "  </thead>\n",
              "  <tbody>\n",
              "    <tr>\n",
              "      <th>2013-01-01</th>\n",
              "      <td>0.763055</td>\n",
              "      <td>0.232062</td>\n",
              "      <td>0.779666</td>\n",
              "      <td>5</td>\n",
              "      <td>1.0</td>\n",
              "    </tr>\n",
              "    <tr>\n",
              "      <th>2013-01-02</th>\n",
              "      <td>-0.618279</td>\n",
              "      <td>0.689766</td>\n",
              "      <td>-1.473013</td>\n",
              "      <td>5</td>\n",
              "      <td>1.0</td>\n",
              "    </tr>\n",
              "    <tr>\n",
              "      <th>2013-01-03</th>\n",
              "      <td>0.535734</td>\n",
              "      <td>1.885526</td>\n",
              "      <td>-0.460454</td>\n",
              "      <td>5</td>\n",
              "      <td>NaN</td>\n",
              "    </tr>\n",
              "    <tr>\n",
              "      <th>2013-01-04</th>\n",
              "      <td>-0.630800</td>\n",
              "      <td>1.700747</td>\n",
              "      <td>0.040570</td>\n",
              "      <td>5</td>\n",
              "      <td>NaN</td>\n",
              "    </tr>\n",
              "  </tbody>\n",
              "</table>\n",
              "</div>"
            ],
            "text/plain": [
              "                   A         B         C  D    E\n",
              "2013-01-01  0.763055  0.232062  0.779666  5  1.0\n",
              "2013-01-02 -0.618279  0.689766 -1.473013  5  1.0\n",
              "2013-01-03  0.535734  1.885526 -0.460454  5  NaN\n",
              "2013-01-04 -0.630800  1.700747  0.040570  5  NaN"
            ]
          },
          "metadata": {
            "tags": []
          },
          "execution_count": 70
        }
      ]
    },
    {
      "cell_type": "code",
      "metadata": {
        "id": "ZoxDC5E5_FRF",
        "colab_type": "code",
        "colab": {
          "base_uri": "https://localhost:8080/",
          "height": 336
        },
        "outputId": "70b4989f-4bf1-4780-dd22-1a020923ec12"
      },
      "source": [
        "st=df1.stack()\n",
        "st"
      ],
      "execution_count": 71,
      "outputs": [
        {
          "output_type": "execute_result",
          "data": {
            "text/plain": [
              "2013-01-01  A    0.763055\n",
              "            B    0.232062\n",
              "            C    0.779666\n",
              "            D    5.000000\n",
              "            E    1.000000\n",
              "2013-01-02  A   -0.618279\n",
              "            B    0.689766\n",
              "            C   -1.473013\n",
              "            D    5.000000\n",
              "            E    1.000000\n",
              "2013-01-03  A    0.535734\n",
              "            B    1.885526\n",
              "            C   -0.460454\n",
              "            D    5.000000\n",
              "2013-01-04  A   -0.630800\n",
              "            B    1.700747\n",
              "            C    0.040570\n",
              "            D    5.000000\n",
              "dtype: float64"
            ]
          },
          "metadata": {
            "tags": []
          },
          "execution_count": 71
        }
      ]
    },
    {
      "cell_type": "markdown",
      "metadata": {
        "id": "s-Q9hcSoACDG",
        "colab_type": "text"
      },
      "source": [
        "## categorical"
      ]
    },
    {
      "cell_type": "code",
      "metadata": {
        "id": "L4cXasvkAFOq",
        "colab_type": "code",
        "colab": {
          "base_uri": "https://localhost:8080/",
          "height": 225
        },
        "outputId": "c33ca996-27eb-4c97-f2c3-2f18d1f029cb"
      },
      "source": [
        "df=pd.DataFrame({'id':[1,2,3,4,5,6],\"raw_grade\":['a','b','c','d','e','f']})\n",
        "df"
      ],
      "execution_count": 74,
      "outputs": [
        {
          "output_type": "execute_result",
          "data": {
            "text/html": [
              "<div>\n",
              "<style scoped>\n",
              "    .dataframe tbody tr th:only-of-type {\n",
              "        vertical-align: middle;\n",
              "    }\n",
              "\n",
              "    .dataframe tbody tr th {\n",
              "        vertical-align: top;\n",
              "    }\n",
              "\n",
              "    .dataframe thead th {\n",
              "        text-align: right;\n",
              "    }\n",
              "</style>\n",
              "<table border=\"1\" class=\"dataframe\">\n",
              "  <thead>\n",
              "    <tr style=\"text-align: right;\">\n",
              "      <th></th>\n",
              "      <th>id</th>\n",
              "      <th>raw_grade</th>\n",
              "    </tr>\n",
              "  </thead>\n",
              "  <tbody>\n",
              "    <tr>\n",
              "      <th>0</th>\n",
              "      <td>1</td>\n",
              "      <td>a</td>\n",
              "    </tr>\n",
              "    <tr>\n",
              "      <th>1</th>\n",
              "      <td>2</td>\n",
              "      <td>b</td>\n",
              "    </tr>\n",
              "    <tr>\n",
              "      <th>2</th>\n",
              "      <td>3</td>\n",
              "      <td>c</td>\n",
              "    </tr>\n",
              "    <tr>\n",
              "      <th>3</th>\n",
              "      <td>4</td>\n",
              "      <td>d</td>\n",
              "    </tr>\n",
              "    <tr>\n",
              "      <th>4</th>\n",
              "      <td>5</td>\n",
              "      <td>e</td>\n",
              "    </tr>\n",
              "    <tr>\n",
              "      <th>5</th>\n",
              "      <td>6</td>\n",
              "      <td>f</td>\n",
              "    </tr>\n",
              "  </tbody>\n",
              "</table>\n",
              "</div>"
            ],
            "text/plain": [
              "   id raw_grade\n",
              "0   1         a\n",
              "1   2         b\n",
              "2   3         c\n",
              "3   4         d\n",
              "4   5         e\n",
              "5   6         f"
            ]
          },
          "metadata": {
            "tags": []
          },
          "execution_count": 74
        }
      ]
    },
    {
      "cell_type": "code",
      "metadata": {
        "id": "xaa32aTnAfaw",
        "colab_type": "code",
        "colab": {
          "base_uri": "https://localhost:8080/",
          "height": 151
        },
        "outputId": "677a3fc2-f830-421b-a55b-5ce18889983b"
      },
      "source": [
        "df[\"grade\"]=df[\"raw_grade\"].astype(\"category\")\n",
        "df[\"grade\"]"
      ],
      "execution_count": 75,
      "outputs": [
        {
          "output_type": "execute_result",
          "data": {
            "text/plain": [
              "0    a\n",
              "1    b\n",
              "2    c\n",
              "3    d\n",
              "4    e\n",
              "5    f\n",
              "Name: grade, dtype: category\n",
              "Categories (6, object): [a, b, c, d, e, f]"
            ]
          },
          "metadata": {
            "tags": []
          },
          "execution_count": 75
        }
      ]
    }
  ]
}