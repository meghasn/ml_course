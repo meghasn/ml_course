{
  "nbformat": 4,
  "nbformat_minor": 0,
  "metadata": {
    "colab": {
      "name": "recomendation.ipynb",
      "provenance": [],
      "collapsed_sections": []
    },
    "kernelspec": {
      "name": "python3",
      "display_name": "Python 3"
    },
    "accelerator": "GPU"
  },
  "cells": [
    {
      "cell_type": "code",
      "metadata": {
        "id": "Tjn1fYRDyJey",
        "colab_type": "code",
        "outputId": "86243e03-70e6-4ecc-8a74-c630317a4ad1",
        "colab": {
          "base_uri": "https://localhost:8080/",
          "height": 34
        }
      },
      "source": [
        "%tensorflow_version 2.x\n",
        "\n",
        "import pandas as pd\n",
        "import numpy as np\n",
        "import matplotlib.pyplot as plt\n",
        "from sklearn.model_selection import train_test_split\n",
        "from sklearn.preprocessing import StandardScaler\n",
        "from tensorflow.keras.layers import Input, Embedding, Flatten, Dot, Dense, Add, Dropout\n",
        "from tensorflow.keras.models import Model\n",
        "from tensorflow.keras.optimizers import Adam\n",
        "from sklearn.preprocessing import LabelEncoder"
      ],
      "execution_count": 0,
      "outputs": [
        {
          "output_type": "stream",
          "text": [
            "TensorFlow 2.x selected.\n"
          ],
          "name": "stdout"
        }
      ]
    },
    {
      "cell_type": "code",
      "metadata": {
        "id": "U_wRLkoeyzKR",
        "colab_type": "code",
        "outputId": "97593f22-2f4e-4cf2-96d2-2cfc12771938",
        "colab": {
          "base_uri": "https://localhost:8080/",
          "height": 202
        }
      },
      "source": [
        "!wget http://files.grouplens.org/datasets/movielens/ml-latest-small.zip"
      ],
      "execution_count": 0,
      "outputs": [
        {
          "output_type": "stream",
          "text": [
            "--2020-03-25 12:35:04--  http://files.grouplens.org/datasets/movielens/ml-latest-small.zip\n",
            "Resolving files.grouplens.org (files.grouplens.org)... 128.101.65.152\n",
            "Connecting to files.grouplens.org (files.grouplens.org)|128.101.65.152|:80... connected.\n",
            "HTTP request sent, awaiting response... 200 OK\n",
            "Length: 978202 (955K) [application/zip]\n",
            "Saving to: ‘ml-latest-small.zip’\n",
            "\n",
            "\rml-latest-small.zip   0%[                    ]       0  --.-KB/s               \rml-latest-small.zip   5%[>                   ]  50.10K   239KB/s               \rml-latest-small.zip  23%[===>                ] 219.78K   524KB/s               \rml-latest-small.zip  93%[=================>  ] 892.88K  1.38MB/s               \rml-latest-small.zip 100%[===================>] 955.28K  1.48MB/s    in 0.6s    \n",
            "\n",
            "2020-03-25 12:35:05 (1.48 MB/s) - ‘ml-latest-small.zip’ saved [978202/978202]\n",
            "\n"
          ],
          "name": "stdout"
        }
      ]
    },
    {
      "cell_type": "code",
      "metadata": {
        "id": "E6I1VSdzzGH-",
        "colab_type": "code",
        "outputId": "521cf851-3473-487d-9968-67c2cd945a83",
        "colab": {
          "base_uri": "https://localhost:8080/",
          "height": 134
        }
      },
      "source": [
        "!unzip ml-latest-small.zip"
      ],
      "execution_count": 0,
      "outputs": [
        {
          "output_type": "stream",
          "text": [
            "Archive:  ml-latest-small.zip\n",
            "   creating: ml-latest-small/\n",
            "  inflating: ml-latest-small/links.csv  \n",
            "  inflating: ml-latest-small/tags.csv  \n",
            "  inflating: ml-latest-small/ratings.csv  \n",
            "  inflating: ml-latest-small/README.txt  \n",
            "  inflating: ml-latest-small/movies.csv  \n"
          ],
          "name": "stdout"
        }
      ]
    },
    {
      "cell_type": "code",
      "metadata": {
        "id": "gwjBX9VXzQRj",
        "colab_type": "code",
        "outputId": "8b8eb7cf-7dee-4ce9-f88e-b905a9d253ac",
        "colab": {
          "base_uri": "https://localhost:8080/",
          "height": 195
        }
      },
      "source": [
        "movies=pd.read_csv('ml-latest-small/movies.csv')\n",
        "movies.head()"
      ],
      "execution_count": 0,
      "outputs": [
        {
          "output_type": "execute_result",
          "data": {
            "text/html": [
              "<div>\n",
              "<style scoped>\n",
              "    .dataframe tbody tr th:only-of-type {\n",
              "        vertical-align: middle;\n",
              "    }\n",
              "\n",
              "    .dataframe tbody tr th {\n",
              "        vertical-align: top;\n",
              "    }\n",
              "\n",
              "    .dataframe thead th {\n",
              "        text-align: right;\n",
              "    }\n",
              "</style>\n",
              "<table border=\"1\" class=\"dataframe\">\n",
              "  <thead>\n",
              "    <tr style=\"text-align: right;\">\n",
              "      <th></th>\n",
              "      <th>movieId</th>\n",
              "      <th>title</th>\n",
              "      <th>genres</th>\n",
              "    </tr>\n",
              "  </thead>\n",
              "  <tbody>\n",
              "    <tr>\n",
              "      <th>0</th>\n",
              "      <td>1</td>\n",
              "      <td>Toy Story (1995)</td>\n",
              "      <td>Adventure|Animation|Children|Comedy|Fantasy</td>\n",
              "    </tr>\n",
              "    <tr>\n",
              "      <th>1</th>\n",
              "      <td>2</td>\n",
              "      <td>Jumanji (1995)</td>\n",
              "      <td>Adventure|Children|Fantasy</td>\n",
              "    </tr>\n",
              "    <tr>\n",
              "      <th>2</th>\n",
              "      <td>3</td>\n",
              "      <td>Grumpier Old Men (1995)</td>\n",
              "      <td>Comedy|Romance</td>\n",
              "    </tr>\n",
              "    <tr>\n",
              "      <th>3</th>\n",
              "      <td>4</td>\n",
              "      <td>Waiting to Exhale (1995)</td>\n",
              "      <td>Comedy|Drama|Romance</td>\n",
              "    </tr>\n",
              "    <tr>\n",
              "      <th>4</th>\n",
              "      <td>5</td>\n",
              "      <td>Father of the Bride Part II (1995)</td>\n",
              "      <td>Comedy</td>\n",
              "    </tr>\n",
              "  </tbody>\n",
              "</table>\n",
              "</div>"
            ],
            "text/plain": [
              "   movieId  ...                                       genres\n",
              "0        1  ...  Adventure|Animation|Children|Comedy|Fantasy\n",
              "1        2  ...                   Adventure|Children|Fantasy\n",
              "2        3  ...                               Comedy|Romance\n",
              "3        4  ...                         Comedy|Drama|Romance\n",
              "4        5  ...                                       Comedy\n",
              "\n",
              "[5 rows x 3 columns]"
            ]
          },
          "metadata": {
            "tags": []
          },
          "execution_count": 4
        }
      ]
    },
    {
      "cell_type": "code",
      "metadata": {
        "id": "NdlU9odyz6u4",
        "colab_type": "code",
        "outputId": "60fc4703-45e5-4188-da59-b454fa486579",
        "colab": {
          "base_uri": "https://localhost:8080/",
          "height": 195
        }
      },
      "source": [
        "ratings=pd.read_csv('ml-latest-small/ratings.csv')\n",
        "ratings.head()"
      ],
      "execution_count": 0,
      "outputs": [
        {
          "output_type": "execute_result",
          "data": {
            "text/html": [
              "<div>\n",
              "<style scoped>\n",
              "    .dataframe tbody tr th:only-of-type {\n",
              "        vertical-align: middle;\n",
              "    }\n",
              "\n",
              "    .dataframe tbody tr th {\n",
              "        vertical-align: top;\n",
              "    }\n",
              "\n",
              "    .dataframe thead th {\n",
              "        text-align: right;\n",
              "    }\n",
              "</style>\n",
              "<table border=\"1\" class=\"dataframe\">\n",
              "  <thead>\n",
              "    <tr style=\"text-align: right;\">\n",
              "      <th></th>\n",
              "      <th>userId</th>\n",
              "      <th>movieId</th>\n",
              "      <th>rating</th>\n",
              "      <th>timestamp</th>\n",
              "    </tr>\n",
              "  </thead>\n",
              "  <tbody>\n",
              "    <tr>\n",
              "      <th>0</th>\n",
              "      <td>1</td>\n",
              "      <td>1</td>\n",
              "      <td>4.0</td>\n",
              "      <td>964982703</td>\n",
              "    </tr>\n",
              "    <tr>\n",
              "      <th>1</th>\n",
              "      <td>1</td>\n",
              "      <td>3</td>\n",
              "      <td>4.0</td>\n",
              "      <td>964981247</td>\n",
              "    </tr>\n",
              "    <tr>\n",
              "      <th>2</th>\n",
              "      <td>1</td>\n",
              "      <td>6</td>\n",
              "      <td>4.0</td>\n",
              "      <td>964982224</td>\n",
              "    </tr>\n",
              "    <tr>\n",
              "      <th>3</th>\n",
              "      <td>1</td>\n",
              "      <td>47</td>\n",
              "      <td>5.0</td>\n",
              "      <td>964983815</td>\n",
              "    </tr>\n",
              "    <tr>\n",
              "      <th>4</th>\n",
              "      <td>1</td>\n",
              "      <td>50</td>\n",
              "      <td>5.0</td>\n",
              "      <td>964982931</td>\n",
              "    </tr>\n",
              "  </tbody>\n",
              "</table>\n",
              "</div>"
            ],
            "text/plain": [
              "   userId  movieId  rating  timestamp\n",
              "0       1        1     4.0  964982703\n",
              "1       1        3     4.0  964981247\n",
              "2       1        6     4.0  964982224\n",
              "3       1       47     5.0  964983815\n",
              "4       1       50     5.0  964982931"
            ]
          },
          "metadata": {
            "tags": []
          },
          "execution_count": 5
        }
      ]
    },
    {
      "cell_type": "code",
      "metadata": {
        "id": "HFxaIFqhVWlX",
        "colab_type": "code",
        "outputId": "c059b33d-b797-4aca-8f3e-09acec2b4231",
        "colab": {
          "base_uri": "https://localhost:8080/",
          "height": 195
        }
      },
      "source": [
        "ratings = ratings.merge(movies, on='movieId').drop(['genres','timestamp'],axis=1)\n",
        "ratings.head()"
      ],
      "execution_count": 0,
      "outputs": [
        {
          "output_type": "execute_result",
          "data": {
            "text/html": [
              "<div>\n",
              "<style scoped>\n",
              "    .dataframe tbody tr th:only-of-type {\n",
              "        vertical-align: middle;\n",
              "    }\n",
              "\n",
              "    .dataframe tbody tr th {\n",
              "        vertical-align: top;\n",
              "    }\n",
              "\n",
              "    .dataframe thead th {\n",
              "        text-align: right;\n",
              "    }\n",
              "</style>\n",
              "<table border=\"1\" class=\"dataframe\">\n",
              "  <thead>\n",
              "    <tr style=\"text-align: right;\">\n",
              "      <th></th>\n",
              "      <th>userId</th>\n",
              "      <th>movieId</th>\n",
              "      <th>rating</th>\n",
              "      <th>title</th>\n",
              "    </tr>\n",
              "  </thead>\n",
              "  <tbody>\n",
              "    <tr>\n",
              "      <th>0</th>\n",
              "      <td>1</td>\n",
              "      <td>1</td>\n",
              "      <td>4.0</td>\n",
              "      <td>Toy Story (1995)</td>\n",
              "    </tr>\n",
              "    <tr>\n",
              "      <th>1</th>\n",
              "      <td>5</td>\n",
              "      <td>1</td>\n",
              "      <td>4.0</td>\n",
              "      <td>Toy Story (1995)</td>\n",
              "    </tr>\n",
              "    <tr>\n",
              "      <th>2</th>\n",
              "      <td>7</td>\n",
              "      <td>1</td>\n",
              "      <td>4.5</td>\n",
              "      <td>Toy Story (1995)</td>\n",
              "    </tr>\n",
              "    <tr>\n",
              "      <th>3</th>\n",
              "      <td>15</td>\n",
              "      <td>1</td>\n",
              "      <td>2.5</td>\n",
              "      <td>Toy Story (1995)</td>\n",
              "    </tr>\n",
              "    <tr>\n",
              "      <th>4</th>\n",
              "      <td>17</td>\n",
              "      <td>1</td>\n",
              "      <td>4.5</td>\n",
              "      <td>Toy Story (1995)</td>\n",
              "    </tr>\n",
              "  </tbody>\n",
              "</table>\n",
              "</div>"
            ],
            "text/plain": [
              "   userId  movieId  rating             title\n",
              "0       1        1     4.0  Toy Story (1995)\n",
              "1       5        1     4.0  Toy Story (1995)\n",
              "2       7        1     4.5  Toy Story (1995)\n",
              "3      15        1     2.5  Toy Story (1995)\n",
              "4      17        1     4.5  Toy Story (1995)"
            ]
          },
          "metadata": {
            "tags": []
          },
          "execution_count": 6
        }
      ]
    },
    {
      "cell_type": "code",
      "metadata": {
        "id": "_4pqtobKXpjy",
        "colab_type": "code",
        "outputId": "831c59cb-41ab-4d12-b173-b98a411365a7",
        "colab": {
          "base_uri": "https://localhost:8080/",
          "height": 195
        }
      },
      "source": [
        "user_enc=LabelEncoder()\n",
        "ratings['user_seq']=user_enc.fit_transform(ratings['userId'].values)\n",
        "\n",
        "item_enc=LabelEncoder()\n",
        "ratings['movie_seq']=item_enc.fit_transform(ratings['movieId'].values)\n",
        "ratings.head()"
      ],
      "execution_count": 0,
      "outputs": [
        {
          "output_type": "execute_result",
          "data": {
            "text/html": [
              "<div>\n",
              "<style scoped>\n",
              "    .dataframe tbody tr th:only-of-type {\n",
              "        vertical-align: middle;\n",
              "    }\n",
              "\n",
              "    .dataframe tbody tr th {\n",
              "        vertical-align: top;\n",
              "    }\n",
              "\n",
              "    .dataframe thead th {\n",
              "        text-align: right;\n",
              "    }\n",
              "</style>\n",
              "<table border=\"1\" class=\"dataframe\">\n",
              "  <thead>\n",
              "    <tr style=\"text-align: right;\">\n",
              "      <th></th>\n",
              "      <th>userId</th>\n",
              "      <th>movieId</th>\n",
              "      <th>rating</th>\n",
              "      <th>title</th>\n",
              "      <th>user_seq</th>\n",
              "      <th>movie_seq</th>\n",
              "    </tr>\n",
              "  </thead>\n",
              "  <tbody>\n",
              "    <tr>\n",
              "      <th>0</th>\n",
              "      <td>1</td>\n",
              "      <td>1</td>\n",
              "      <td>4.0</td>\n",
              "      <td>Toy Story (1995)</td>\n",
              "      <td>0</td>\n",
              "      <td>0</td>\n",
              "    </tr>\n",
              "    <tr>\n",
              "      <th>1</th>\n",
              "      <td>5</td>\n",
              "      <td>1</td>\n",
              "      <td>4.0</td>\n",
              "      <td>Toy Story (1995)</td>\n",
              "      <td>4</td>\n",
              "      <td>0</td>\n",
              "    </tr>\n",
              "    <tr>\n",
              "      <th>2</th>\n",
              "      <td>7</td>\n",
              "      <td>1</td>\n",
              "      <td>4.5</td>\n",
              "      <td>Toy Story (1995)</td>\n",
              "      <td>6</td>\n",
              "      <td>0</td>\n",
              "    </tr>\n",
              "    <tr>\n",
              "      <th>3</th>\n",
              "      <td>15</td>\n",
              "      <td>1</td>\n",
              "      <td>2.5</td>\n",
              "      <td>Toy Story (1995)</td>\n",
              "      <td>14</td>\n",
              "      <td>0</td>\n",
              "    </tr>\n",
              "    <tr>\n",
              "      <th>4</th>\n",
              "      <td>17</td>\n",
              "      <td>1</td>\n",
              "      <td>4.5</td>\n",
              "      <td>Toy Story (1995)</td>\n",
              "      <td>16</td>\n",
              "      <td>0</td>\n",
              "    </tr>\n",
              "  </tbody>\n",
              "</table>\n",
              "</div>"
            ],
            "text/plain": [
              "   userId  movieId  rating             title  user_seq  movie_seq\n",
              "0       1        1     4.0  Toy Story (1995)         0          0\n",
              "1       5        1     4.0  Toy Story (1995)         4          0\n",
              "2       7        1     4.5  Toy Story (1995)         6          0\n",
              "3      15        1     2.5  Toy Story (1995)        14          0\n",
              "4      17        1     4.5  Toy Story (1995)        16          0"
            ]
          },
          "metadata": {
            "tags": []
          },
          "execution_count": 7
        }
      ]
    },
    {
      "cell_type": "code",
      "metadata": {
        "id": "YmBcuCaAbsoG",
        "colab_type": "code",
        "outputId": "44cc0ecd-6700-4261-c1db-f85c88864fbd",
        "colab": {
          "base_uri": "https://localhost:8080/",
          "height": 50
        }
      },
      "source": [
        "train_unused,test=train_test_split(ratings,test_size=.20,random_state=0)\n",
        "train=ratings\n",
        "numUsers = len(train.user_seq.unique())\n",
        "numMovies = len(train.movie_seq.unique())\n",
        "print((numUsers, numMovies))\n",
        "print((len(train), len(test)))"
      ],
      "execution_count": 0,
      "outputs": [
        {
          "output_type": "stream",
          "text": [
            "(610, 9724)\n",
            "(100836, 20168)\n"
          ],
          "name": "stdout"
        }
      ]
    },
    {
      "cell_type": "code",
      "metadata": {
        "id": "5ZGSblfjht4C",
        "colab_type": "code",
        "outputId": "71293c1f-cc71-432d-c7e1-657062f67988",
        "colab": {
          "base_uri": "https://localhost:8080/",
          "height": 672
        }
      },
      "source": [
        "numFeatures=50\n",
        "dropout=0.0\n",
        "user_input=Input(shape=(1,))\n",
        "user_emb=Embedding(numUsers,numFeatures)(user_input)\n",
        "flat_user=  Flatten()(user_emb)\n",
        "user_dropout=Dropout(dropout)(flat_user)\n",
        "\n",
        "movie_input=Input(shape=(1,))\n",
        "movie_emb=Embedding(numMovies,numFeatures)(movie_input)\n",
        "flat_movie=  Flatten()(movie_emb)\n",
        "movie_dropout=Dropout(dropout)(flat_movie)\n",
        "\n",
        "dotProduct=Dot(axes=1)([user_dropout,movie_dropout])\n",
        "\n",
        "user_bias = Embedding(numUsers, 1)(user_input)\n",
        "movie_bias = Embedding(numMovies, 1)(movie_input)\n",
        "sum=Add()([dotProduct,user_bias,movie_bias])\n",
        "flat_sum = Flatten()(sum)\n",
        "output = Dropout(dropout)(flat_sum)\n",
        "\n",
        "model=Model([user_input,movie_input],output)\n",
        "model.summary()\n",
        "\n"
      ],
      "execution_count": 0,
      "outputs": [
        {
          "output_type": "stream",
          "text": [
            "Model: \"model\"\n",
            "__________________________________________________________________________________________________\n",
            "Layer (type)                    Output Shape         Param #     Connected to                     \n",
            "==================================================================================================\n",
            "input_1 (InputLayer)            [(None, 1)]          0                                            \n",
            "__________________________________________________________________________________________________\n",
            "input_2 (InputLayer)            [(None, 1)]          0                                            \n",
            "__________________________________________________________________________________________________\n",
            "embedding (Embedding)           (None, 1, 50)        30500       input_1[0][0]                    \n",
            "__________________________________________________________________________________________________\n",
            "embedding_1 (Embedding)         (None, 1, 50)        486200      input_2[0][0]                    \n",
            "__________________________________________________________________________________________________\n",
            "flatten (Flatten)               (None, 50)           0           embedding[0][0]                  \n",
            "__________________________________________________________________________________________________\n",
            "flatten_1 (Flatten)             (None, 50)           0           embedding_1[0][0]                \n",
            "__________________________________________________________________________________________________\n",
            "dropout (Dropout)               (None, 50)           0           flatten[0][0]                    \n",
            "__________________________________________________________________________________________________\n",
            "dropout_1 (Dropout)             (None, 50)           0           flatten_1[0][0]                  \n",
            "__________________________________________________________________________________________________\n",
            "dot (Dot)                       (None, 1)            0           dropout[0][0]                    \n",
            "                                                                 dropout_1[0][0]                  \n",
            "__________________________________________________________________________________________________\n",
            "embedding_2 (Embedding)         (None, 1, 1)         610         input_1[0][0]                    \n",
            "__________________________________________________________________________________________________\n",
            "embedding_3 (Embedding)         (None, 1, 1)         9724        input_2[0][0]                    \n",
            "__________________________________________________________________________________________________\n",
            "add (Add)                       (None, 1, 1)         0           dot[0][0]                        \n",
            "                                                                 embedding_2[0][0]                \n",
            "                                                                 embedding_3[0][0]                \n",
            "__________________________________________________________________________________________________\n",
            "flatten_2 (Flatten)             (None, 1)            0           add[0][0]                        \n",
            "__________________________________________________________________________________________________\n",
            "dropout_2 (Dropout)             (None, 1)            0           flatten_2[0][0]                  \n",
            "==================================================================================================\n",
            "Total params: 527,034\n",
            "Trainable params: 527,034\n",
            "Non-trainable params: 0\n",
            "__________________________________________________________________________________________________\n"
          ],
          "name": "stdout"
        }
      ]
    },
    {
      "cell_type": "code",
      "metadata": {
        "id": "-4XjIspJv_Zo",
        "colab_type": "code",
        "outputId": "1856f316-52a3-4f49-de32-64352de26f7c",
        "colab": {
          "base_uri": "https://localhost:8080/",
          "height": 648
        }
      },
      "source": [
        "model.compile(loss='mean_squared_error',optimizer=Adam())\n",
        "history=model.fit([train.user_seq,train.movie_seq],train.rating,batch_size=32,epochs=10,verbose=1,validation_data=([test.user_seq,test.movie_seq],test.rating))\n",
        "\n",
        "plt.plot(history.history['loss'])\n",
        "plt.plot(history.history['val_loss'])\n",
        "plt.title('Model accuracy')\n",
        "plt.ylabel('Accuracy')\n",
        "plt.xlabel('Epoch')\n",
        "plt.legend(['Train', 'Test'], loc='upper left')\n",
        "plt.show()"
      ],
      "execution_count": 0,
      "outputs": [
        {
          "output_type": "stream",
          "text": [
            "Train on 100836 samples, validate on 20168 samples\n",
            "Epoch 1/10\n",
            "100836/100836 [==============================] - 34s 337us/sample - loss: 6.1729 - val_loss: 1.4464\n",
            "Epoch 2/10\n",
            "100836/100836 [==============================] - 25s 247us/sample - loss: 1.1403 - val_loss: 0.7993\n",
            "Epoch 3/10\n",
            "100836/100836 [==============================] - 26s 256us/sample - loss: 0.8095 - val_loss: 0.6465\n",
            "Epoch 4/10\n",
            "100836/100836 [==============================] - 26s 256us/sample - loss: 0.6755 - val_loss: 0.5397\n",
            "Epoch 5/10\n",
            "100836/100836 [==============================] - 25s 253us/sample - loss: 0.5729 - val_loss: 0.4590\n",
            "Epoch 6/10\n",
            "100836/100836 [==============================] - 25s 252us/sample - loss: 0.4853 - val_loss: 0.3855\n",
            "Epoch 7/10\n",
            "100836/100836 [==============================] - 25s 252us/sample - loss: 0.4051 - val_loss: 0.3163\n",
            "Epoch 8/10\n",
            "100836/100836 [==============================] - 25s 247us/sample - loss: 0.3338 - val_loss: 0.2529\n",
            "Epoch 9/10\n",
            "100836/100836 [==============================] - 25s 248us/sample - loss: 0.2728 - val_loss: 0.2061\n",
            "Epoch 10/10\n",
            "100836/100836 [==============================] - 25s 248us/sample - loss: 0.2234 - val_loss: 0.1652\n"
          ],
          "name": "stdout"
        },
        {
          "output_type": "display_data",
          "data": {
            "image/png": "[encoded data removed]",
            "text/plain": [
              "<Figure size 432x288 with 1 Axes>"
            ]
          },
          "metadata": {
            "tags": []
          }
        }
      ]
    },
    {
      "cell_type": "code",
      "metadata": {
        "id": "D00IprUY0LE8",
        "colab_type": "code",
        "outputId": "6796cef0-78fc-4a3e-976a-e192b5562526",
        "colab": {
          "base_uri": "https://localhost:8080/",
          "height": 343
        }
      },
      "source": [
        "userNumber=0\n",
        "uniqueMovies=ratings.drop_duplicates(subset=['movie_seq'])\n",
        "movie_vector=uniqueMovies.movie_seq.values\n",
        "user_vector=np.ones((len(uniqueMovies),))*userNumber\n",
        "predictions=model.predict([user_vector,movie_vector])\n",
        "pSeries=pd.Series(a[0] for a in predictions)\n",
        "predictedDF=uniqueMovies.copy()\n",
        "predictedDF['Predictions'] = pSeries\n",
        "\n",
        "predictedDF.sort_values(by='Predictions', ascending=False).head(10)"
      ],
      "execution_count": 0,
      "outputs": [
        {
          "output_type": "execute_result",
          "data": {
            "text/html": [
              "<div>\n",
              "<style scoped>\n",
              "    .dataframe tbody tr th:only-of-type {\n",
              "        vertical-align: middle;\n",
              "    }\n",
              "\n",
              "    .dataframe tbody tr th {\n",
              "        vertical-align: top;\n",
              "    }\n",
              "\n",
              "    .dataframe thead th {\n",
              "        text-align: right;\n",
              "    }\n",
              "</style>\n",
              "<table border=\"1\" class=\"dataframe\">\n",
              "  <thead>\n",
              "    <tr style=\"text-align: right;\">\n",
              "      <th></th>\n",
              "      <th>userId</th>\n",
              "      <th>movieId</th>\n",
              "      <th>rating</th>\n",
              "      <th>title</th>\n",
              "      <th>user_seq</th>\n",
              "      <th>movie_seq</th>\n",
              "      <th>Predictions</th>\n",
              "    </tr>\n",
              "  </thead>\n",
              "  <tbody>\n",
              "    <tr>\n",
              "      <th>5770</th>\n",
              "      <td>1</td>\n",
              "      <td>1025</td>\n",
              "      <td>5.0</td>\n",
              "      <td>Sword in the Stone, The (1963)</td>\n",
              "      <td>0</td>\n",
              "      <td>783</td>\n",
              "      <td>6.028817</td>\n",
              "    </tr>\n",
              "    <tr>\n",
              "      <th>4121</th>\n",
              "      <td>1</td>\n",
              "      <td>592</td>\n",
              "      <td>4.0</td>\n",
              "      <td>Batman (1989)</td>\n",
              "      <td>0</td>\n",
              "      <td>509</td>\n",
              "      <td>5.813938</td>\n",
              "    </tr>\n",
              "    <tr>\n",
              "      <th>6347</th>\n",
              "      <td>1</td>\n",
              "      <td>1090</td>\n",
              "      <td>4.0</td>\n",
              "      <td>Platoon (1986)</td>\n",
              "      <td>0</td>\n",
              "      <td>828</td>\n",
              "      <td>5.710107</td>\n",
              "    </tr>\n",
              "    <tr>\n",
              "      <th>6127</th>\n",
              "      <td>1</td>\n",
              "      <td>1080</td>\n",
              "      <td>5.0</td>\n",
              "      <td>Monty Python's Life of Brian (1979)</td>\n",
              "      <td>0</td>\n",
              "      <td>819</td>\n",
              "      <td>5.641839</td>\n",
              "    </tr>\n",
              "    <tr>\n",
              "      <th>2755</th>\n",
              "      <td>1</td>\n",
              "      <td>362</td>\n",
              "      <td>5.0</td>\n",
              "      <td>Jungle Book, The (1994)</td>\n",
              "      <td>0</td>\n",
              "      <td>320</td>\n",
              "      <td>5.429348</td>\n",
              "    </tr>\n",
              "    <tr>\n",
              "      <th>4992</th>\n",
              "      <td>1</td>\n",
              "      <td>661</td>\n",
              "      <td>5.0</td>\n",
              "      <td>James and the Giant Peach (1996)</td>\n",
              "      <td>0</td>\n",
              "      <td>551</td>\n",
              "      <td>5.400470</td>\n",
              "    </tr>\n",
              "    <tr>\n",
              "      <th>5751</th>\n",
              "      <td>1</td>\n",
              "      <td>1023</td>\n",
              "      <td>5.0</td>\n",
              "      <td>Winnie the Pooh and the Blustery Day (1968)</td>\n",
              "      <td>0</td>\n",
              "      <td>781</td>\n",
              "      <td>5.342366</td>\n",
              "    </tr>\n",
              "    <tr>\n",
              "      <th>1135</th>\n",
              "      <td>1</td>\n",
              "      <td>157</td>\n",
              "      <td>5.0</td>\n",
              "      <td>Canadian Bacon (1995)</td>\n",
              "      <td>0</td>\n",
              "      <td>130</td>\n",
              "      <td>5.333259</td>\n",
              "    </tr>\n",
              "    <tr>\n",
              "      <th>4830</th>\n",
              "      <td>1</td>\n",
              "      <td>648</td>\n",
              "      <td>3.0</td>\n",
              "      <td>Mission: Impossible (1996)</td>\n",
              "      <td>0</td>\n",
              "      <td>546</td>\n",
              "      <td>5.274713</td>\n",
              "    </tr>\n",
              "    <tr>\n",
              "      <th>6988</th>\n",
              "      <td>1</td>\n",
              "      <td>1197</td>\n",
              "      <td>5.0</td>\n",
              "      <td>Princess Bride, The (1987)</td>\n",
              "      <td>0</td>\n",
              "      <td>898</td>\n",
              "      <td>5.130636</td>\n",
              "    </tr>\n",
              "  </tbody>\n",
              "</table>\n",
              "</div>"
            ],
            "text/plain": [
              "      userId  movieId  rating  ... user_seq  movie_seq  Predictions\n",
              "5770       1     1025     5.0  ...        0        783     6.028817\n",
              "4121       1      592     4.0  ...        0        509     5.813938\n",
              "6347       1     1090     4.0  ...        0        828     5.710107\n",
              "6127       1     1080     5.0  ...        0        819     5.641839\n",
              "2755       1      362     5.0  ...        0        320     5.429348\n",
              "4992       1      661     5.0  ...        0        551     5.400470\n",
              "5751       1     1023     5.0  ...        0        781     5.342366\n",
              "1135       1      157     5.0  ...        0        130     5.333259\n",
              "4830       1      648     3.0  ...        0        546     5.274713\n",
              "6988       1     1197     5.0  ...        0        898     5.130636\n",
              "\n",
              "[10 rows x 7 columns]"
            ]
          },
          "metadata": {
            "tags": []
          },
          "execution_count": 11
        }
      ]
    },
    {
      "cell_type": "code",
      "metadata": {
        "id": "ET7pftR5q4KM",
        "colab_type": "code",
        "outputId": "5f23f641-b912-47bc-ccdf-a84a4e264bf5",
        "colab": {
          "base_uri": "https://localhost:8080/",
          "height": 195
        }
      },
      "source": [
        "oneUser=predictedDF[predictedDF.user_seq==userNumber].copy()\n",
        "oneUser['error']=(oneUser.rating-oneUser.Predictions)**2\n",
        "oneUser.sort_values(by='error' ,ascending=False).head(5)"
      ],
      "execution_count": 0,
      "outputs": [
        {
          "output_type": "execute_result",
          "data": {
            "text/html": [
              "<div>\n",
              "<style scoped>\n",
              "    .dataframe tbody tr th:only-of-type {\n",
              "        vertical-align: middle;\n",
              "    }\n",
              "\n",
              "    .dataframe tbody tr th {\n",
              "        vertical-align: top;\n",
              "    }\n",
              "\n",
              "    .dataframe thead th {\n",
              "        text-align: right;\n",
              "    }\n",
              "</style>\n",
              "<table border=\"1\" class=\"dataframe\">\n",
              "  <thead>\n",
              "    <tr style=\"text-align: right;\">\n",
              "      <th></th>\n",
              "      <th>userId</th>\n",
              "      <th>movieId</th>\n",
              "      <th>rating</th>\n",
              "      <th>title</th>\n",
              "      <th>user_seq</th>\n",
              "      <th>movie_seq</th>\n",
              "      <th>Predictions</th>\n",
              "      <th>error</th>\n",
              "    </tr>\n",
              "  </thead>\n",
              "  <tbody>\n",
              "    <tr>\n",
              "      <th>4649</th>\n",
              "      <td>1</td>\n",
              "      <td>608</td>\n",
              "      <td>5.0</td>\n",
              "      <td>Fargo (1996)</td>\n",
              "      <td>0</td>\n",
              "      <td>520</td>\n",
              "      <td>0.862767</td>\n",
              "      <td>17.116696</td>\n",
              "    </tr>\n",
              "    <tr>\n",
              "      <th>6216</th>\n",
              "      <td>1</td>\n",
              "      <td>1089</td>\n",
              "      <td>5.0</td>\n",
              "      <td>Reservoir Dogs (1992)</td>\n",
              "      <td>0</td>\n",
              "      <td>827</td>\n",
              "      <td>1.354774</td>\n",
              "      <td>13.287675</td>\n",
              "    </tr>\n",
              "    <tr>\n",
              "      <th>7130</th>\n",
              "      <td>1</td>\n",
              "      <td>1198</td>\n",
              "      <td>5.0</td>\n",
              "      <td>Raiders of the Lost Ark (Indiana Jones and the...</td>\n",
              "      <td>0</td>\n",
              "      <td>899</td>\n",
              "      <td>1.449463</td>\n",
              "      <td>12.606310</td>\n",
              "    </tr>\n",
              "    <tr>\n",
              "      <th>6641</th>\n",
              "      <td>1</td>\n",
              "      <td>1136</td>\n",
              "      <td>5.0</td>\n",
              "      <td>Monty Python and the Holy Grail (1975)</td>\n",
              "      <td>0</td>\n",
              "      <td>862</td>\n",
              "      <td>1.532019</td>\n",
              "      <td>12.026895</td>\n",
              "    </tr>\n",
              "    <tr>\n",
              "      <th>8450</th>\n",
              "      <td>1</td>\n",
              "      <td>1256</td>\n",
              "      <td>5.0</td>\n",
              "      <td>Duck Soup (1933)</td>\n",
              "      <td>0</td>\n",
              "      <td>954</td>\n",
              "      <td>1.869553</td>\n",
              "      <td>9.799696</td>\n",
              "    </tr>\n",
              "  </tbody>\n",
              "</table>\n",
              "</div>"
            ],
            "text/plain": [
              "      userId  movieId  rating  ... movie_seq  Predictions      error\n",
              "4649       1      608     5.0  ...       520     0.862767  17.116696\n",
              "6216       1     1089     5.0  ...       827     1.354774  13.287675\n",
              "7130       1     1198     5.0  ...       899     1.449463  12.606310\n",
              "6641       1     1136     5.0  ...       862     1.532019  12.026895\n",
              "8450       1     1256     5.0  ...       954     1.869553   9.799696\n",
              "\n",
              "[5 rows x 8 columns]"
            ]
          },
          "metadata": {
            "tags": []
          },
          "execution_count": 12
        }
      ]
    },
    {
      "cell_type": "code",
      "metadata": {
        "id": "F4ahL1znt4Xh",
        "colab_type": "code",
        "outputId": "149a73aa-f4da-4397-a0af-00c775fe19e1",
        "colab": {
          "base_uri": "https://localhost:8080/",
          "height": 402
        }
      },
      "source": [
        "ratings[ratings.movie_seq == 520].sort_values(by='rating', ascending=True)"
      ],
      "execution_count": 0,
      "outputs": [
        {
          "output_type": "execute_result",
          "data": {
            "text/html": [
              "<div>\n",
              "<style scoped>\n",
              "    .dataframe tbody tr th:only-of-type {\n",
              "        vertical-align: middle;\n",
              "    }\n",
              "\n",
              "    .dataframe tbody tr th {\n",
              "        vertical-align: top;\n",
              "    }\n",
              "\n",
              "    .dataframe thead th {\n",
              "        text-align: right;\n",
              "    }\n",
              "</style>\n",
              "<table border=\"1\" class=\"dataframe\">\n",
              "  <thead>\n",
              "    <tr style=\"text-align: right;\">\n",
              "      <th></th>\n",
              "      <th>userId</th>\n",
              "      <th>movieId</th>\n",
              "      <th>rating</th>\n",
              "      <th>title</th>\n",
              "      <th>user_seq</th>\n",
              "      <th>movie_seq</th>\n",
              "    </tr>\n",
              "  </thead>\n",
              "  <tbody>\n",
              "    <tr>\n",
              "      <th>4827</th>\n",
              "      <td>607</td>\n",
              "      <td>608</td>\n",
              "      <td>2.0</td>\n",
              "      <td>Fargo (1996)</td>\n",
              "      <td>606</td>\n",
              "      <td>520</td>\n",
              "    </tr>\n",
              "    <tr>\n",
              "      <th>4672</th>\n",
              "      <td>78</td>\n",
              "      <td>608</td>\n",
              "      <td>2.0</td>\n",
              "      <td>Fargo (1996)</td>\n",
              "      <td>77</td>\n",
              "      <td>520</td>\n",
              "    </tr>\n",
              "    <tr>\n",
              "      <th>4810</th>\n",
              "      <td>546</td>\n",
              "      <td>608</td>\n",
              "      <td>2.0</td>\n",
              "      <td>Fargo (1996)</td>\n",
              "      <td>545</td>\n",
              "      <td>520</td>\n",
              "    </tr>\n",
              "    <tr>\n",
              "      <th>4669</th>\n",
              "      <td>71</td>\n",
              "      <td>608</td>\n",
              "      <td>2.0</td>\n",
              "      <td>Fargo (1996)</td>\n",
              "      <td>70</td>\n",
              "      <td>520</td>\n",
              "    </tr>\n",
              "    <tr>\n",
              "      <th>4812</th>\n",
              "      <td>554</td>\n",
              "      <td>608</td>\n",
              "      <td>2.0</td>\n",
              "      <td>Fargo (1996)</td>\n",
              "      <td>553</td>\n",
              "      <td>520</td>\n",
              "    </tr>\n",
              "    <tr>\n",
              "      <th>...</th>\n",
              "      <td>...</td>\n",
              "      <td>...</td>\n",
              "      <td>...</td>\n",
              "      <td>...</td>\n",
              "      <td>...</td>\n",
              "      <td>...</td>\n",
              "    </tr>\n",
              "    <tr>\n",
              "      <th>4725</th>\n",
              "      <td>251</td>\n",
              "      <td>608</td>\n",
              "      <td>5.0</td>\n",
              "      <td>Fargo (1996)</td>\n",
              "      <td>250</td>\n",
              "      <td>520</td>\n",
              "    </tr>\n",
              "    <tr>\n",
              "      <th>4718</th>\n",
              "      <td>221</td>\n",
              "      <td>608</td>\n",
              "      <td>5.0</td>\n",
              "      <td>Fargo (1996)</td>\n",
              "      <td>220</td>\n",
              "      <td>520</td>\n",
              "    </tr>\n",
              "    <tr>\n",
              "      <th>4717</th>\n",
              "      <td>220</td>\n",
              "      <td>608</td>\n",
              "      <td>5.0</td>\n",
              "      <td>Fargo (1996)</td>\n",
              "      <td>219</td>\n",
              "      <td>520</td>\n",
              "    </tr>\n",
              "    <tr>\n",
              "      <th>4754</th>\n",
              "      <td>324</td>\n",
              "      <td>608</td>\n",
              "      <td>5.0</td>\n",
              "      <td>Fargo (1996)</td>\n",
              "      <td>323</td>\n",
              "      <td>520</td>\n",
              "    </tr>\n",
              "    <tr>\n",
              "      <th>4739</th>\n",
              "      <td>290</td>\n",
              "      <td>608</td>\n",
              "      <td>5.0</td>\n",
              "      <td>Fargo (1996)</td>\n",
              "      <td>289</td>\n",
              "      <td>520</td>\n",
              "    </tr>\n",
              "  </tbody>\n",
              "</table>\n",
              "<p>181 rows × 6 columns</p>\n",
              "</div>"
            ],
            "text/plain": [
              "      userId  movieId  rating         title  user_seq  movie_seq\n",
              "4827     607      608     2.0  Fargo (1996)       606        520\n",
              "4672      78      608     2.0  Fargo (1996)        77        520\n",
              "4810     546      608     2.0  Fargo (1996)       545        520\n",
              "4669      71      608     2.0  Fargo (1996)        70        520\n",
              "4812     554      608     2.0  Fargo (1996)       553        520\n",
              "...      ...      ...     ...           ...       ...        ...\n",
              "4725     251      608     5.0  Fargo (1996)       250        520\n",
              "4718     221      608     5.0  Fargo (1996)       220        520\n",
              "4717     220      608     5.0  Fargo (1996)       219        520\n",
              "4754     324      608     5.0  Fargo (1996)       323        520\n",
              "4739     290      608     5.0  Fargo (1996)       289        520\n",
              "\n",
              "[181 rows x 6 columns]"
            ]
          },
          "metadata": {
            "tags": []
          },
          "execution_count": 14
        }
      ]
    },
    {
      "cell_type": "code",
      "metadata": {
        "id": "c3eCOVJZaLQP",
        "colab_type": "code",
        "colab": {}
      },
      "source": [
        ""
      ],
      "execution_count": 0,
      "outputs": []
    }
  ]
}